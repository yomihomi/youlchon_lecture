{
 "cells": [
  {
   "cell_type": "code",
   "execution_count": null,
   "id": "808cc21b-023b-4bf6-926d-bbd4b8f0b0fa",
   "metadata": {},
   "outputs": [],
   "source": [
    "# 사용자의 입력을 받으려면 input() 함수를 사용합니다.\n",
    "age = int(input(\"나이를 입력하세요: \"))  # 입력값을 정수로 변환\n",
    "print(f\"당신의 나이는 {age}살입니다.\")"
   ]
  },
  {
   "cell_type": "code",
   "execution_count": null,
   "id": "b4c6d63a-6c7e-4c23-b6df-c34fedb9db7a",
   "metadata": {},
   "outputs": [],
   "source": [
    "# 1. 사용자가 입력한 두 개의 문자열을 합쳐서 대문자로 출력하라."
   ]
  },
  {
   "cell_type": "code",
   "execution_count": null,
   "id": "db312d89-be0f-4efe-a136-9e134dfd5271",
   "metadata": {},
   "outputs": [],
   "source": [
    "# 2. 문자열 s = \"python is fun\"에서 단어의 첫 글자만 대문자로 바꾼 문장을 출력하라.\n",
    "s = \"python is fun\""
   ]
  },
  {
   "cell_type": "code",
   "execution_count": null,
   "id": "4a6d1ee8-cd88-4e08-b9ca-6d40dde50599",
   "metadata": {},
   "outputs": [],
   "source": [
    "# 3. 문자열 \"2025-03-28\"에서 연도, 월, 일을 분리해서 각각 출력하세요"
   ]
  },
  {
   "cell_type": "code",
   "execution_count": null,
   "id": "018aaa80-6821-49b8-a293-242dfee06c53",
   "metadata": {},
   "outputs": [],
   "source": [
    "# 4. 문자열 \"abc123\"에서 숫자만 추출하여 정수로 변환하라."
   ]
  },
  {
   "cell_type": "code",
   "execution_count": null,
   "id": "8cf364b0-777d-44a7-a431-bfd952f1a48e",
   "metadata": {},
   "outputs": [],
   "source": [
    "# 5. 문자열 \" Hello Python! \"에서 양쪽 공백 제거 후 느낌표를 제거한 결과를 출력하라."
   ]
  },
  {
   "cell_type": "code",
   "execution_count": null,
   "id": "9aa815a5-dee0-4d35-8ce5-8be0c38cc6c6",
   "metadata": {},
   "outputs": [],
   "source": [
    "# 6. str = \"apple,banana,grape\"를 리스트로 만든 뒤, 리스트의 값을 알파벳 역순으로 정렬하라.\n",
    "str = \"apple,banana,grape\""
   ]
  },
  {
   "cell_type": "code",
   "execution_count": null,
   "id": "aa4b14ca-0a5e-4133-9e57-40aae0876d97",
   "metadata": {},
   "outputs": [],
   "source": [
    "# 7. 숫자 1~10으로 이루어진 리스트에서 3의 배수만 골라 새로운 리스트를 만들어 출력하라."
   ]
  },
  {
   "cell_type": "code",
   "execution_count": null,
   "id": "cb1ab72b-15cb-4f76-b2b6-6ffd36f7de11",
   "metadata": {},
   "outputs": [],
   "source": [
    "# 8. 리스트 my_list = [10, 20, 30, 40, 50]을 거꾸로 출력하라 (두 가지 방법으로)\n",
    "my_list = [10, 20, 30, 40, 50]\n",
    "# (1) 슬라이싱을 이용하는 방법\n",
    "# (2) 내장함수를 이용하는 방법 2가지로 구현"
   ]
  },
  {
   "cell_type": "code",
   "execution_count": null,
   "id": "d8326496-fd1d-49dd-b43f-d0d45424e13a",
   "metadata": {},
   "outputs": [],
   "source": [
    "# 9. 두 개의 리스트 list1 = [1, 2, 3], list2 = [4, 5, 6]를 합쳐 하나의 리스트로 만든 후 평균을 출력하라.\n",
    "list1 = [1, 2, 3]\n",
    "list2 = [4, 5, 6]"
   ]
  },
  {
   "cell_type": "code",
   "execution_count": null,
   "id": "4804f46e-4917-4403-88c6-035a1f2f2aee",
   "metadata": {},
   "outputs": [],
   "source": [
    "# 10. my_tuple = (10, 20, 30, 40)에서 요소의 총합과 평균을 구하라.\n",
    "my_tuple = (10, 20, 30, 40)"
   ]
  },
  {
   "cell_type": "code",
   "execution_count": null,
   "id": "12b3ad0d-5480-475b-b0f5-b3de1b6d7c7b",
   "metadata": {},
   "outputs": [],
   "source": [
    "# 11. 사용자가 입력한 나이에 따라 다음과 같이 출력되도록 하세요.\n",
    "# 0~12: \"Child\"\n",
    "# 13~19: \"Teen\"\n",
    "# 20~64: \"Adult\"\n",
    "# 65 이상: \"Senior\""
   ]
  },
  {
   "cell_type": "code",
   "execution_count": null,
   "id": "6234185b-2aa4-4b44-a5a3-c77f85812828",
   "metadata": {},
   "outputs": [],
   "source": [
    "# 12. 두 개의 숫자를 입력받아 큰 수를 출력하되, 같으면 \"Equal\"을 출력하라."
   ]
  },
  {
   "cell_type": "code",
   "execution_count": null,
   "id": "8a76216d-9a36-415c-8497-1d5855993a16",
   "metadata": {},
   "outputs": [],
   "source": [
    "# 13. 세 수를 입력받아 오름차순 정렬한 결과를 출력하라."
   ]
  },
  {
   "cell_type": "code",
   "execution_count": null,
   "id": "e3cd68bc-34cb-4001-9e22-f556094a0c07",
   "metadata": {},
   "outputs": [],
   "source": [
    "# 14. 리스트 my_list = [1, 2, 3, 4, 5]에서 짝수는 제곱, 홀수는 그대로 출력하는 코드 작성하라.\n",
    "my_list = [1, 2, 3, 4, 5]"
   ]
  },
  {
   "cell_type": "code",
   "execution_count": null,
   "id": "57e33015-b75a-42be-befc-b32c10c324b0",
   "metadata": {},
   "outputs": [],
   "source": [
    "# 15. my_list = [5, 3, 8, 1]에서 가장 작은 수와 가장 큰 수의 차이를 구하라.\n",
    "my_list = [5, 3, 8, 1]"
   ]
  },
  {
   "cell_type": "code",
   "execution_count": null,
   "id": "698a3e73-4431-4568-afac-dd002093fc6d",
   "metadata": {},
   "outputs": [],
   "source": [
    "# 16. my_list = [10, 20, 30]에서 마지막 요소를 제거한 후, 그 값을 다시 리스트 맨 앞에 추가하라.\n",
    "my_list = [10, 20, 30]"
   ]
  },
  {
   "cell_type": "code",
   "execution_count": null,
   "id": "8cf26d2d-542d-45b9-9925-c4667233f52b",
   "metadata": {},
   "outputs": [],
   "source": [
    "# 17. my_tuple = (1, 2, 3)을 리스트로 변환한 뒤, 값 4를 추가하고 다시 튜플로 변환하라.\n",
    "my_tuple = (1, 2, 3)"
   ]
  },
  {
   "cell_type": "code",
   "execution_count": null,
   "id": "2469292d-8790-4080-8441-82282419cfa9",
   "metadata": {},
   "outputs": [],
   "source": [
    "# 18. 딕셔너리 my_dict = {\"math\": 80, \"english\": 90, \"science\": 60}에서 평균 점수와 최고 점수, 최고 점수를 받은 과목을 출력하라.\n",
    "my_dict = {\"math\": 80, \"english\": 90, \"science\": 60}"
   ]
  },
  {
   "cell_type": "code",
   "execution_count": null,
   "id": "af725c4d-8576-439b-a92a-b8c60016941a",
   "metadata": {},
   "outputs": [],
   "source": [
    "# 19. 1부터 100까지 중 3과 5의 공배수만 출력하라."
   ]
  },
  {
   "cell_type": "code",
   "execution_count": null,
   "id": "e04fcd21-cb49-41ce-abd3-cc7b8e31f87c",
   "metadata": {},
   "outputs": [],
   "source": [
    "# 20. 알파벳 소문자로만 이루어진 단어를 입력받아, 이 단어가 팰린드롬인지 아닌지 확인하는 프로그램을 작성하시오\n",
    "# 팰린드롬이란 앞으로 읽을 때와 거꾸로 읽을 때 똑같은 단어를 말한다.\n",
    "# level, noon은 팰린드롬이고, online, judge는 팰린드롬이 아니다."
   ]
  }
 ],
 "metadata": {
  "kernelspec": {
   "display_name": "Python 3 (ipykernel)",
   "language": "python",
   "name": "python3"
  },
  "language_info": {
   "codemirror_mode": {
    "name": "ipython",
    "version": 3
   },
   "file_extension": ".py",
   "mimetype": "text/x-python",
   "name": "python",
   "nbconvert_exporter": "python",
   "pygments_lexer": "ipython3",
   "version": "3.12.7"
  }
 },
 "nbformat": 4,
 "nbformat_minor": 5
}
