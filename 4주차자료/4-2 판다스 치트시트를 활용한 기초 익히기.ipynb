{
 "cells": [
  {
   "cell_type": "markdown",
   "id": "99193399-e176-4d01-91c4-ee4625167f9f",
   "metadata": {},
   "source": [
    "# ___2. Pandas___"
   ]
  },
  {
   "cell_type": "markdown",
   "id": "81829855-39ef-4494-a560-1cf66af169f9",
   "metadata": {},
   "source": [
    "### __목차__\n",
    "- [(1) 판다스 자료구조 소개](#(1)-판단스-자료구조-소개)\n",
    "  - [1. Series](#1.-Series)\n",
    "  - [2. DataFrame](#2.-DataFrame)\n",
    "- [(2) 핵심기능](#(2)-핵심기능)\n",
    "  - [1. 재색인](#1.-재색인)\n",
    "  - [2. 하나의 행이나 열 삭제하기](#2.-하나의-행이나-열-삭제하기)\n",
    "  - [3. 색인하기, 선택하기, 거르기](#3.-색인하기,-선택하기,-거르기)\n",
    "  - [4. 산술 연산과 데이터 정렬](#4.-산술-연산과-데이터-정렬)\n",
    "- [(3) 기술 통계 계산과 요약](#(3)-기술-통계-계산과-요약)"
   ]
  },
  {
   "cell_type": "markdown",
   "id": "bfa68103-7d1b-4f8a-8911-c5cd50e682f0",
   "metadata": {},
   "source": [
    "## ___(1) 판다스 자료구조 소개___\n",
    "### __1. Series__\n",
    "* Series는 모든 유형의 데이터를 저장하는 1차원 배열\n",
    "* 색인(index) 이라고 하는 배열의 데이터와 연관된 이름을 갖는다.\n",
    "* 아무것도 지정하지 않으면 값에 0부터 시작되는 번호가 index로 지정된다."
   ]
  },
  {
   "cell_type": "code",
   "execution_count": 4,
   "id": "eab85aed-4505-4fe5-bafd-6aa40dc572d8",
   "metadata": {},
   "outputs": [],
   "source": [
    "import pandas as pd # pandas는 panel Data의 약자입니다."
   ]
  },
  {
   "cell_type": "code",
   "execution_count": 11,
   "id": "650ccf3e-2655-49e4-8a27-ce60dce0ece0",
   "metadata": {},
   "outputs": [
    {
     "name": "stdout",
     "output_type": "stream",
     "text": [
      "0    1\n",
      "1    7\n",
      "2    2\n",
      "dtype: int64\n"
     ]
    }
   ],
   "source": [
    "a = [1,7,2]\n",
    "myval = pd.Series(a)\n",
    "print(myval)"
   ]
  },
  {
   "cell_type": "markdown",
   "id": "9ec02e4a-867d-40a7-9a8d-68098f644cc9",
   "metadata": {},
   "source": [
    "* 색인(index)는 지정된 값을 액세스하는 데 사용할 수 있다."
   ]
  },
  {
   "cell_type": "code",
   "execution_count": 12,
   "id": "02dfbcd0-064a-43a6-9a11-aab9f9d8de5a",
   "metadata": {},
   "outputs": [
    {
     "name": "stdout",
     "output_type": "stream",
     "text": [
      "1\n"
     ]
    }
   ],
   "source": [
    "# 예) series의 첫번째 값을 반환합니다.\n",
    "print(myval[0])"
   ]
  },
  {
   "cell_type": "markdown",
   "id": "63169f45-75d4-46ef-bda8-89cb3fd7f41e",
   "metadata": {},
   "source": [
    "* index를 지정해 Series 객체를 생성할 수 있다."
   ]
  },
  {
   "cell_type": "code",
   "execution_count": 13,
   "id": "79eaabe4-b1d1-4903-9927-37bc0fece28b",
   "metadata": {},
   "outputs": [
    {
     "name": "stdout",
     "output_type": "stream",
     "text": [
      "x    1\n",
      "y    7\n",
      "z    2\n",
      "dtype: int64\n"
     ]
    }
   ],
   "source": [
    "a = [1,7,2]\n",
    "myval = pd.Series(a, index=[\"x\" , \"y\" , \"z\"])\n",
    "print(myval)"
   ]
  },
  {
   "cell_type": "markdown",
   "id": "d3bf9c61-6f02-4470-a9fb-2ad3bf96c0d8",
   "metadata": {},
   "source": [
    "* 여러 개의 값을 선택하는 경우에는, 선택된 결과가 리스트 형태로 반환되기 때문에 중첩된 대괄호를 사용합니다."
   ]
  },
  {
   "cell_type": "code",
   "execution_count": 36,
   "id": "24590e93-0575-465a-8ce1-1c447a6a5105",
   "metadata": {},
   "outputs": [
    {
     "name": "stdout",
     "output_type": "stream",
     "text": [
      "--- 단일 값을 출력할 때 ---\n",
      "1\n",
      "--- 여러 값을 출력할 때 --- \n",
      "x    1\n",
      "y    7\n",
      "dtype: int64\n"
     ]
    }
   ],
   "source": [
    "print(\"--- 단일 값을 출력할 때 ---\")\n",
    "print(myval[\"x\"])\n",
    "\n",
    "print(\"--- 여러 값을 출력할 때 --- \")\n",
    "print(myval[[\"x\", \"y\"]])"
   ]
  },
  {
   "cell_type": "markdown",
   "id": "e1c3ad09-19fe-482d-9fd8-8a6374162dbf",
   "metadata": {},
   "source": [
    "* Series는 색인값에 데이터 값을 매핑하고 있으므로, 파이썬의 딕셔너리와 비슷합니다.\n",
    "* 파이썬 딕셔너리 객체로부터 Series 객체를 생성할 수 있습니다.\n",
    "* to_dict 함수를 사용해 Series를 다시 딕셔너리로 변환할 수도 있습니다."
   ]
  },
  {
   "cell_type": "code",
   "execution_count": 30,
   "id": "1b315eba-8c20-477a-9710-7becb258fccf",
   "metadata": {},
   "outputs": [
    {
     "data": {
      "text/plain": [
       "Ohio      35000\n",
       "Texas     71000\n",
       "Oregon    16000\n",
       "Utah       5000\n",
       "dtype: int64"
      ]
     },
     "execution_count": 30,
     "metadata": {},
     "output_type": "execute_result"
    }
   ],
   "source": [
    "my_dict = {\"Ohio\":35000, \"Texas\":71000, \"Oregon\":16000, \"Utah\":5000}\n",
    "obj = pd.Series(my_dict)\n",
    "obj"
   ]
  },
  {
   "cell_type": "code",
   "execution_count": 27,
   "id": "48018f73-b115-4178-b420-99931b458e45",
   "metadata": {},
   "outputs": [
    {
     "name": "stdout",
     "output_type": "stream",
     "text": [
      "{'ohio': 35000, 'Texas': 71000, 'Oregon': 16000, 'Utah': 5000}\n"
     ]
    }
   ],
   "source": [
    "print(obj.to_dict())"
   ]
  },
  {
   "cell_type": "markdown",
   "id": "f3872a30-d60f-43ea-b2ba-53f6986685be",
   "metadata": {},
   "source": [
    "* 딕셔너리 객체만 가지고 Series 객체를 생성하면 생성된 Series객체의 색인은\n",
    "  딕셔너리의 Key메서드에서 반환하는 키의 값 순서로 들어간다.\n",
    "* 색인을 직접 지정하고 싶다면 원하는 순서대로 색인을 지정할 수 있다."
   ]
  },
  {
   "cell_type": "code",
   "execution_count": 31,
   "id": "35537b53-27f5-4259-9fc5-8d64252722da",
   "metadata": {},
   "outputs": [
    {
     "data": {
      "text/plain": [
       "California        NaN\n",
       "Ohio          35000.0\n",
       "Oregon        16000.0\n",
       "Texas         71000.0\n",
       "dtype: float64"
      ]
     },
     "execution_count": 31,
     "metadata": {},
     "output_type": "execute_result"
    }
   ],
   "source": [
    "states = [\"California\", \"Ohio\", \"Oregon\", \"Texas\"]\n",
    "obj2 = pd.Series(my_dict, index=states)\n",
    "obj2"
   ]
  },
  {
   "cell_type": "markdown",
   "id": "06770bcd-f7ff-4c59-a310-8d1e265f11b2",
   "metadata": {},
   "source": [
    "* California에 대한 값을 찾을 수 없기 때문에 NaN(Not a Number)로 표시되고, 누락된 값으로 취급된다.\n",
    "* 판다스의 isnull과 notnull 함수는 누락된 데이터를 찾을 때 사용한다."
   ]
  },
  {
   "cell_type": "code",
   "execution_count": 32,
   "id": "2de713c6-93e7-4188-808f-d3192d5604b5",
   "metadata": {},
   "outputs": [
    {
     "data": {
      "text/plain": [
       "California     True\n",
       "Ohio          False\n",
       "Oregon        False\n",
       "Texas         False\n",
       "dtype: bool"
      ]
     },
     "execution_count": 32,
     "metadata": {},
     "output_type": "execute_result"
    }
   ],
   "source": [
    "pd.isna(obj2)"
   ]
  },
  {
   "cell_type": "code",
   "execution_count": 33,
   "id": "5bbc1e5b-53eb-402d-9b2b-3f5a7893f356",
   "metadata": {},
   "outputs": [
    {
     "data": {
      "text/plain": [
       "California    False\n",
       "Ohio           True\n",
       "Oregon         True\n",
       "Texas          True\n",
       "dtype: bool"
      ]
     },
     "execution_count": 33,
     "metadata": {},
     "output_type": "execute_result"
    }
   ],
   "source": [
    "pd.notna(obj2)"
   ]
  },
  {
   "cell_type": "code",
   "execution_count": 34,
   "id": "7f78aff1-a0b4-44a1-8809-fff628bc9f46",
   "metadata": {},
   "outputs": [
    {
     "data": {
      "text/plain": [
       "California     True\n",
       "Ohio          False\n",
       "Oregon        False\n",
       "Texas         False\n",
       "dtype: bool"
      ]
     },
     "execution_count": 34,
     "metadata": {},
     "output_type": "execute_result"
    }
   ],
   "source": [
    "obj2.isna()"
   ]
  },
  {
   "cell_type": "markdown",
   "id": "4e9dbf16-5fd6-48a4-9d93-7ed3caf60230",
   "metadata": {},
   "source": [
    "### __2. DataFrame__\n",
    "* DataFrame은 행과 열로 구성된 2차원 데이터구조"
   ]
  },
  {
   "cell_type": "code",
   "execution_count": 30,
   "id": "16749b54-2bec-4d3e-b5bd-03c5f9dc4d8a",
   "metadata": {},
   "outputs": [
    {
     "data": {
      "text/html": [
       "<div>\n",
       "<style scoped>\n",
       "    .dataframe tbody tr th:only-of-type {\n",
       "        vertical-align: middle;\n",
       "    }\n",
       "\n",
       "    .dataframe tbody tr th {\n",
       "        vertical-align: top;\n",
       "    }\n",
       "\n",
       "    .dataframe thead th {\n",
       "        text-align: right;\n",
       "    }\n",
       "</style>\n",
       "<table border=\"1\" class=\"dataframe\">\n",
       "  <thead>\n",
       "    <tr style=\"text-align: right;\">\n",
       "      <th></th>\n",
       "      <th>도시</th>\n",
       "      <th>년도</th>\n",
       "      <th>인구</th>\n",
       "    </tr>\n",
       "  </thead>\n",
       "  <tbody>\n",
       "    <tr>\n",
       "      <th>0</th>\n",
       "      <td>서울</td>\n",
       "      <td>2000</td>\n",
       "      <td>1.5</td>\n",
       "    </tr>\n",
       "    <tr>\n",
       "      <th>1</th>\n",
       "      <td>서울</td>\n",
       "      <td>2001</td>\n",
       "      <td>1.7</td>\n",
       "    </tr>\n",
       "    <tr>\n",
       "      <th>2</th>\n",
       "      <td>서울</td>\n",
       "      <td>2002</td>\n",
       "      <td>3.6</td>\n",
       "    </tr>\n",
       "    <tr>\n",
       "      <th>3</th>\n",
       "      <td>부산</td>\n",
       "      <td>2001</td>\n",
       "      <td>2.4</td>\n",
       "    </tr>\n",
       "    <tr>\n",
       "      <th>4</th>\n",
       "      <td>부산</td>\n",
       "      <td>2002</td>\n",
       "      <td>2.9</td>\n",
       "    </tr>\n",
       "    <tr>\n",
       "      <th>5</th>\n",
       "      <td>부산</td>\n",
       "      <td>2003</td>\n",
       "      <td>3.2</td>\n",
       "    </tr>\n",
       "  </tbody>\n",
       "</table>\n",
       "</div>"
      ],
      "text/plain": [
       "   도시    년도   인구\n",
       "0  서울  2000  1.5\n",
       "1  서울  2001  1.7\n",
       "2  서울  2002  3.6\n",
       "3  부산  2001  2.4\n",
       "4  부산  2002  2.9\n",
       "5  부산  2003  3.2"
      ]
     },
     "execution_count": 30,
     "metadata": {},
     "output_type": "execute_result"
    }
   ],
   "source": [
    "data = {\"도시\" : [\"서울\", \"서울\", \"서울\", \"부산\", \"부산\", \"부산\"], \"년도\" : [2000,2001,2002,2001,2002,2003], \"인구\" : [1.5,1.7,3.6,2.4,2.9,3.2]}\n",
    "frame = pd.DataFrame(data)\n",
    "frame"
   ]
  },
  {
   "cell_type": "markdown",
   "id": "b9f9ab4e-e2e6-4452-b782-1e01d5831b69",
   "metadata": {},
   "source": [
    "* 큰 DataFrame을 다룰 때는 ```head()``` 메서드를 이용해 처음 5개의 행만 출력할 수 있다.\n",
    "* 마찬가지로 ```tail()``` 메서드를 이용해 마지막 5개의 행을 출력할 수도 있다."
   ]
  },
  {
   "cell_type": "code",
   "execution_count": 32,
   "id": "65ae1e8b-fd8b-4e6d-91c9-2cfd8e425013",
   "metadata": {},
   "outputs": [
    {
     "data": {
      "text/html": [
       "<div>\n",
       "<style scoped>\n",
       "    .dataframe tbody tr th:only-of-type {\n",
       "        vertical-align: middle;\n",
       "    }\n",
       "\n",
       "    .dataframe tbody tr th {\n",
       "        vertical-align: top;\n",
       "    }\n",
       "\n",
       "    .dataframe thead th {\n",
       "        text-align: right;\n",
       "    }\n",
       "</style>\n",
       "<table border=\"1\" class=\"dataframe\">\n",
       "  <thead>\n",
       "    <tr style=\"text-align: right;\">\n",
       "      <th></th>\n",
       "      <th>도시</th>\n",
       "      <th>년도</th>\n",
       "      <th>인구</th>\n",
       "    </tr>\n",
       "  </thead>\n",
       "  <tbody>\n",
       "    <tr>\n",
       "      <th>0</th>\n",
       "      <td>서울</td>\n",
       "      <td>2000</td>\n",
       "      <td>1.5</td>\n",
       "    </tr>\n",
       "    <tr>\n",
       "      <th>1</th>\n",
       "      <td>서울</td>\n",
       "      <td>2001</td>\n",
       "      <td>1.7</td>\n",
       "    </tr>\n",
       "    <tr>\n",
       "      <th>2</th>\n",
       "      <td>서울</td>\n",
       "      <td>2002</td>\n",
       "      <td>3.6</td>\n",
       "    </tr>\n",
       "    <tr>\n",
       "      <th>3</th>\n",
       "      <td>부산</td>\n",
       "      <td>2001</td>\n",
       "      <td>2.4</td>\n",
       "    </tr>\n",
       "    <tr>\n",
       "      <th>4</th>\n",
       "      <td>부산</td>\n",
       "      <td>2002</td>\n",
       "      <td>2.9</td>\n",
       "    </tr>\n",
       "  </tbody>\n",
       "</table>\n",
       "</div>"
      ],
      "text/plain": [
       "   도시    년도   인구\n",
       "0  서울  2000  1.5\n",
       "1  서울  2001  1.7\n",
       "2  서울  2002  3.6\n",
       "3  부산  2001  2.4\n",
       "4  부산  2002  2.9"
      ]
     },
     "execution_count": 32,
     "metadata": {},
     "output_type": "execute_result"
    }
   ],
   "source": [
    "frame.head()"
   ]
  },
  {
   "cell_type": "markdown",
   "id": "b1dcee6c-75fd-42c7-a64a-a6917ea1a701",
   "metadata": {},
   "source": [
    "* columns을 원하는 순서대로 지정하면 해당 순서로 정렬된 DataFrame객체가 생성된다."
   ]
  },
  {
   "cell_type": "code",
   "execution_count": 31,
   "id": "90622428-a687-445e-a9ea-5e2d4774a8d7",
   "metadata": {},
   "outputs": [
    {
     "data": {
      "text/html": [
       "<div>\n",
       "<style scoped>\n",
       "    .dataframe tbody tr th:only-of-type {\n",
       "        vertical-align: middle;\n",
       "    }\n",
       "\n",
       "    .dataframe tbody tr th {\n",
       "        vertical-align: top;\n",
       "    }\n",
       "\n",
       "    .dataframe thead th {\n",
       "        text-align: right;\n",
       "    }\n",
       "</style>\n",
       "<table border=\"1\" class=\"dataframe\">\n",
       "  <thead>\n",
       "    <tr style=\"text-align: right;\">\n",
       "      <th></th>\n",
       "      <th>년도</th>\n",
       "      <th>도시</th>\n",
       "      <th>인구</th>\n",
       "    </tr>\n",
       "  </thead>\n",
       "  <tbody>\n",
       "    <tr>\n",
       "      <th>0</th>\n",
       "      <td>2000</td>\n",
       "      <td>서울</td>\n",
       "      <td>1.5</td>\n",
       "    </tr>\n",
       "    <tr>\n",
       "      <th>1</th>\n",
       "      <td>2001</td>\n",
       "      <td>서울</td>\n",
       "      <td>1.7</td>\n",
       "    </tr>\n",
       "    <tr>\n",
       "      <th>2</th>\n",
       "      <td>2002</td>\n",
       "      <td>서울</td>\n",
       "      <td>3.6</td>\n",
       "    </tr>\n",
       "    <tr>\n",
       "      <th>3</th>\n",
       "      <td>2001</td>\n",
       "      <td>부산</td>\n",
       "      <td>2.4</td>\n",
       "    </tr>\n",
       "    <tr>\n",
       "      <th>4</th>\n",
       "      <td>2002</td>\n",
       "      <td>부산</td>\n",
       "      <td>2.9</td>\n",
       "    </tr>\n",
       "    <tr>\n",
       "      <th>5</th>\n",
       "      <td>2003</td>\n",
       "      <td>부산</td>\n",
       "      <td>3.2</td>\n",
       "    </tr>\n",
       "  </tbody>\n",
       "</table>\n",
       "</div>"
      ],
      "text/plain": [
       "     년도  도시   인구\n",
       "0  2000  서울  1.5\n",
       "1  2001  서울  1.7\n",
       "2  2002  서울  3.6\n",
       "3  2001  부산  2.4\n",
       "4  2002  부산  2.9\n",
       "5  2003  부산  3.2"
      ]
     },
     "execution_count": 31,
     "metadata": {},
     "output_type": "execute_result"
    }
   ],
   "source": [
    "pd.DataFrame(data, columns=[\"년도\", \"도시\", \"인구\"])"
   ]
  },
  {
   "cell_type": "markdown",
   "id": "19cbf520-f712-4a66-a142-9c75042ab9ba",
   "metadata": {},
   "source": [
    "* 딕셔너리에 없는 값을 columns에 넘기면 결과에 결측치가 표시된다."
   ]
  },
  {
   "cell_type": "code",
   "execution_count": 33,
   "id": "122ed2bb-3101-4fa1-917d-267b316e8f2c",
   "metadata": {},
   "outputs": [
    {
     "data": {
      "text/html": [
       "<div>\n",
       "<style scoped>\n",
       "    .dataframe tbody tr th:only-of-type {\n",
       "        vertical-align: middle;\n",
       "    }\n",
       "\n",
       "    .dataframe tbody tr th {\n",
       "        vertical-align: top;\n",
       "    }\n",
       "\n",
       "    .dataframe thead th {\n",
       "        text-align: right;\n",
       "    }\n",
       "</style>\n",
       "<table border=\"1\" class=\"dataframe\">\n",
       "  <thead>\n",
       "    <tr style=\"text-align: right;\">\n",
       "      <th></th>\n",
       "      <th>년도</th>\n",
       "      <th>도시</th>\n",
       "      <th>인구</th>\n",
       "      <th>부채</th>\n",
       "    </tr>\n",
       "  </thead>\n",
       "  <tbody>\n",
       "    <tr>\n",
       "      <th>0</th>\n",
       "      <td>2000</td>\n",
       "      <td>서울</td>\n",
       "      <td>1.5</td>\n",
       "      <td>NaN</td>\n",
       "    </tr>\n",
       "    <tr>\n",
       "      <th>1</th>\n",
       "      <td>2001</td>\n",
       "      <td>서울</td>\n",
       "      <td>1.7</td>\n",
       "      <td>NaN</td>\n",
       "    </tr>\n",
       "    <tr>\n",
       "      <th>2</th>\n",
       "      <td>2002</td>\n",
       "      <td>서울</td>\n",
       "      <td>3.6</td>\n",
       "      <td>NaN</td>\n",
       "    </tr>\n",
       "    <tr>\n",
       "      <th>3</th>\n",
       "      <td>2001</td>\n",
       "      <td>부산</td>\n",
       "      <td>2.4</td>\n",
       "      <td>NaN</td>\n",
       "    </tr>\n",
       "    <tr>\n",
       "      <th>4</th>\n",
       "      <td>2002</td>\n",
       "      <td>부산</td>\n",
       "      <td>2.9</td>\n",
       "      <td>NaN</td>\n",
       "    </tr>\n",
       "    <tr>\n",
       "      <th>5</th>\n",
       "      <td>2003</td>\n",
       "      <td>부산</td>\n",
       "      <td>3.2</td>\n",
       "      <td>NaN</td>\n",
       "    </tr>\n",
       "  </tbody>\n",
       "</table>\n",
       "</div>"
      ],
      "text/plain": [
       "     년도  도시   인구   부채\n",
       "0  2000  서울  1.5  NaN\n",
       "1  2001  서울  1.7  NaN\n",
       "2  2002  서울  3.6  NaN\n",
       "3  2001  부산  2.4  NaN\n",
       "4  2002  부산  2.9  NaN\n",
       "5  2003  부산  3.2  NaN"
      ]
     },
     "execution_count": 33,
     "metadata": {},
     "output_type": "execute_result"
    }
   ],
   "source": [
    "pd.DataFrame(data, columns=[\"년도\", \"도시\", \"인구\", \"부채\"])"
   ]
  },
  {
   "cell_type": "markdown",
   "id": "a01b4217-5ae7-4c66-bb89-d3e63a206f1b",
   "metadata": {},
   "source": [
    "* loc를 이용하여 하나 이상의 지정된 행을 반환\n",
    "* iloc는 위치 기반 인덱싱으로 정수형 인덱스를 사용하여 데이터 접근 가능\n",
    "* loc는 라벨(이름) 기반 인덱싱으로 명시적인 행과 열의 라벨을 사용하여 데이터 접근 가능"
   ]
  },
  {
   "cell_type": "code",
   "execution_count": 34,
   "id": "e1c2d86a-5691-4ed8-8a53-266a45be0780",
   "metadata": {},
   "outputs": [
    {
     "data": {
      "text/plain": [
       "도시      서울\n",
       "년도    2001\n",
       "인구     1.7\n",
       "Name: 1, dtype: object"
      ]
     },
     "execution_count": 34,
     "metadata": {},
     "output_type": "execute_result"
    }
   ],
   "source": [
    "frame.loc[1] # Series를 리턴"
   ]
  },
  {
   "cell_type": "code",
   "execution_count": 35,
   "id": "f705fc40-2d48-4f56-86cc-3bcf0a9f4910",
   "metadata": {},
   "outputs": [
    {
     "data": {
      "text/html": [
       "<div>\n",
       "<style scoped>\n",
       "    .dataframe tbody tr th:only-of-type {\n",
       "        vertical-align: middle;\n",
       "    }\n",
       "\n",
       "    .dataframe tbody tr th {\n",
       "        vertical-align: top;\n",
       "    }\n",
       "\n",
       "    .dataframe thead th {\n",
       "        text-align: right;\n",
       "    }\n",
       "</style>\n",
       "<table border=\"1\" class=\"dataframe\">\n",
       "  <thead>\n",
       "    <tr style=\"text-align: right;\">\n",
       "      <th></th>\n",
       "      <th>도시</th>\n",
       "      <th>년도</th>\n",
       "      <th>인구</th>\n",
       "    </tr>\n",
       "  </thead>\n",
       "  <tbody>\n",
       "    <tr>\n",
       "      <th>1</th>\n",
       "      <td>서울</td>\n",
       "      <td>2001</td>\n",
       "      <td>1.7</td>\n",
       "    </tr>\n",
       "    <tr>\n",
       "      <th>2</th>\n",
       "      <td>서울</td>\n",
       "      <td>2002</td>\n",
       "      <td>3.6</td>\n",
       "    </tr>\n",
       "  </tbody>\n",
       "</table>\n",
       "</div>"
      ],
      "text/plain": [
       "   도시    년도   인구\n",
       "1  서울  2001  1.7\n",
       "2  서울  2002  3.6"
      ]
     },
     "execution_count": 35,
     "metadata": {},
     "output_type": "execute_result"
    }
   ],
   "source": [
    "frame.loc[[1,2]] # []를 사용하면 DataFrame을 리턴"
   ]
  },
  {
   "cell_type": "code",
   "execution_count": 21,
   "id": "263ac170-cd37-4163-b4ca-66c6864b8556",
   "metadata": {},
   "outputs": [
    {
     "name": "stdout",
     "output_type": "stream",
     "text": [
      "      calories  duration\n",
      "day1       420        50\n",
      "day2       380        40\n",
      "day3       390        45\n"
     ]
    }
   ],
   "source": [
    "data = {\n",
    "  \"calories\": [420, 380, 390],\n",
    "  \"duration\": [50, 40, 45]\n",
    "}\n",
    "\n",
    "df = pd.DataFrame(data, index = [\"day1\", \"day2\", \"day3\"])\n",
    "print(df)"
   ]
  },
  {
   "cell_type": "code",
   "execution_count": 28,
   "id": "7d7de7af-245f-4508-8796-43a62abc3f8e",
   "metadata": {},
   "outputs": [
    {
     "name": "stdout",
     "output_type": "stream",
     "text": [
      "calories    380\n",
      "duration     40\n",
      "Name: day2, dtype: int64\n"
     ]
    }
   ],
   "source": [
    "# print(df.iloc[\"day2\"]) # Error\n",
    "# print(df.loc[0]) # error\n",
    "print(df.loc[\"day2\"])"
   ]
  },
  {
   "cell_type": "markdown",
   "id": "0b3573ab-e3ae-4f33-91fa-14c8842ac360",
   "metadata": {},
   "source": [
    "* 대입으로 열을 수정할 수 있다."
   ]
  },
  {
   "cell_type": "code",
   "execution_count": 36,
   "id": "db768f97-aed4-4b15-850e-a847373e4d4e",
   "metadata": {},
   "outputs": [
    {
     "data": {
      "text/html": [
       "<div>\n",
       "<style scoped>\n",
       "    .dataframe tbody tr th:only-of-type {\n",
       "        vertical-align: middle;\n",
       "    }\n",
       "\n",
       "    .dataframe tbody tr th {\n",
       "        vertical-align: top;\n",
       "    }\n",
       "\n",
       "    .dataframe thead th {\n",
       "        text-align: right;\n",
       "    }\n",
       "</style>\n",
       "<table border=\"1\" class=\"dataframe\">\n",
       "  <thead>\n",
       "    <tr style=\"text-align: right;\">\n",
       "      <th></th>\n",
       "      <th>도시</th>\n",
       "      <th>년도</th>\n",
       "      <th>인구</th>\n",
       "      <th>부채</th>\n",
       "    </tr>\n",
       "  </thead>\n",
       "  <tbody>\n",
       "    <tr>\n",
       "      <th>0</th>\n",
       "      <td>서울</td>\n",
       "      <td>2000</td>\n",
       "      <td>1.5</td>\n",
       "      <td>16.5</td>\n",
       "    </tr>\n",
       "    <tr>\n",
       "      <th>1</th>\n",
       "      <td>서울</td>\n",
       "      <td>2001</td>\n",
       "      <td>1.7</td>\n",
       "      <td>16.5</td>\n",
       "    </tr>\n",
       "    <tr>\n",
       "      <th>2</th>\n",
       "      <td>서울</td>\n",
       "      <td>2002</td>\n",
       "      <td>3.6</td>\n",
       "      <td>16.5</td>\n",
       "    </tr>\n",
       "    <tr>\n",
       "      <th>3</th>\n",
       "      <td>부산</td>\n",
       "      <td>2001</td>\n",
       "      <td>2.4</td>\n",
       "      <td>16.5</td>\n",
       "    </tr>\n",
       "    <tr>\n",
       "      <th>4</th>\n",
       "      <td>부산</td>\n",
       "      <td>2002</td>\n",
       "      <td>2.9</td>\n",
       "      <td>16.5</td>\n",
       "    </tr>\n",
       "    <tr>\n",
       "      <th>5</th>\n",
       "      <td>부산</td>\n",
       "      <td>2003</td>\n",
       "      <td>3.2</td>\n",
       "      <td>16.5</td>\n",
       "    </tr>\n",
       "  </tbody>\n",
       "</table>\n",
       "</div>"
      ],
      "text/plain": [
       "   도시    년도   인구    부채\n",
       "0  서울  2000  1.5  16.5\n",
       "1  서울  2001  1.7  16.5\n",
       "2  서울  2002  3.6  16.5\n",
       "3  부산  2001  2.4  16.5\n",
       "4  부산  2002  2.9  16.5\n",
       "5  부산  2003  3.2  16.5"
      ]
     },
     "execution_count": 36,
     "metadata": {},
     "output_type": "execute_result"
    }
   ],
   "source": [
    "frame[\"부채\"] = 16.5\n",
    "frame"
   ]
  },
  {
   "cell_type": "markdown",
   "id": "618bea26-7fcf-4380-9ab6-14f7f40830f4",
   "metadata": {},
   "source": [
    "* 리스트나 배열을 열에 대입할 때는 대입하려는 값의 길이가 DataFrame의 길이와 동일해야 한다.\n",
    "* Series를 대입하면 DataFrame의 색인에 따라 값이 대입되며 존재하지 않는 색인에는 결측치가 대입된다."
   ]
  },
  {
   "cell_type": "code",
   "execution_count": 40,
   "id": "a30a5235-48a5-427d-a46c-958132a74de2",
   "metadata": {},
   "outputs": [
    {
     "data": {
      "text/html": [
       "<div>\n",
       "<style scoped>\n",
       "    .dataframe tbody tr th:only-of-type {\n",
       "        vertical-align: middle;\n",
       "    }\n",
       "\n",
       "    .dataframe tbody tr th {\n",
       "        vertical-align: top;\n",
       "    }\n",
       "\n",
       "    .dataframe thead th {\n",
       "        text-align: right;\n",
       "    }\n",
       "</style>\n",
       "<table border=\"1\" class=\"dataframe\">\n",
       "  <thead>\n",
       "    <tr style=\"text-align: right;\">\n",
       "      <th></th>\n",
       "      <th>도시</th>\n",
       "      <th>년도</th>\n",
       "      <th>인구</th>\n",
       "      <th>부채</th>\n",
       "    </tr>\n",
       "  </thead>\n",
       "  <tbody>\n",
       "    <tr>\n",
       "      <th>0</th>\n",
       "      <td>서울</td>\n",
       "      <td>2000</td>\n",
       "      <td>1.5</td>\n",
       "      <td>NaN</td>\n",
       "    </tr>\n",
       "    <tr>\n",
       "      <th>1</th>\n",
       "      <td>서울</td>\n",
       "      <td>2001</td>\n",
       "      <td>1.7</td>\n",
       "      <td>NaN</td>\n",
       "    </tr>\n",
       "    <tr>\n",
       "      <th>2</th>\n",
       "      <td>서울</td>\n",
       "      <td>2002</td>\n",
       "      <td>3.6</td>\n",
       "      <td>-1.2</td>\n",
       "    </tr>\n",
       "    <tr>\n",
       "      <th>3</th>\n",
       "      <td>부산</td>\n",
       "      <td>2001</td>\n",
       "      <td>2.4</td>\n",
       "      <td>NaN</td>\n",
       "    </tr>\n",
       "    <tr>\n",
       "      <th>4</th>\n",
       "      <td>부산</td>\n",
       "      <td>2002</td>\n",
       "      <td>2.9</td>\n",
       "      <td>-1.5</td>\n",
       "    </tr>\n",
       "    <tr>\n",
       "      <th>5</th>\n",
       "      <td>부산</td>\n",
       "      <td>2003</td>\n",
       "      <td>3.2</td>\n",
       "      <td>NaN</td>\n",
       "    </tr>\n",
       "  </tbody>\n",
       "</table>\n",
       "</div>"
      ],
      "text/plain": [
       "   도시    년도   인구   부채\n",
       "0  서울  2000  1.5  NaN\n",
       "1  서울  2001  1.7  NaN\n",
       "2  서울  2002  3.6 -1.2\n",
       "3  부산  2001  2.4  NaN\n",
       "4  부산  2002  2.9 -1.5\n",
       "5  부산  2003  3.2  NaN"
      ]
     },
     "execution_count": 40,
     "metadata": {},
     "output_type": "execute_result"
    }
   ],
   "source": [
    "val = pd.Series([-1.2, -1.5, -1.7], index=[2, 4, \"five\"])\n",
    "frame[\"부채\"] = val\n",
    "frame"
   ]
  },
  {
   "cell_type": "markdown",
   "id": "339924a9-f865-4e7f-8f67-6d66b2366ae8",
   "metadata": {},
   "source": [
    "* 존재하지 않는 열을 대입할 경우에는 새로운 열이 생성된다.\n",
    "* 도시 열의 값이 \"서울\"인지 검사한 결과를 불리언 값으로 나타내는 새로운 열을 다음과 같이 만들 수 있다."
   ]
  },
  {
   "cell_type": "code",
   "execution_count": 41,
   "id": "b52e847c-e88e-4373-85a6-07a1833a67ba",
   "metadata": {},
   "outputs": [
    {
     "data": {
      "text/html": [
       "<div>\n",
       "<style scoped>\n",
       "    .dataframe tbody tr th:only-of-type {\n",
       "        vertical-align: middle;\n",
       "    }\n",
       "\n",
       "    .dataframe tbody tr th {\n",
       "        vertical-align: top;\n",
       "    }\n",
       "\n",
       "    .dataframe thead th {\n",
       "        text-align: right;\n",
       "    }\n",
       "</style>\n",
       "<table border=\"1\" class=\"dataframe\">\n",
       "  <thead>\n",
       "    <tr style=\"text-align: right;\">\n",
       "      <th></th>\n",
       "      <th>도시</th>\n",
       "      <th>년도</th>\n",
       "      <th>인구</th>\n",
       "      <th>부채</th>\n",
       "      <th>수도</th>\n",
       "    </tr>\n",
       "  </thead>\n",
       "  <tbody>\n",
       "    <tr>\n",
       "      <th>0</th>\n",
       "      <td>서울</td>\n",
       "      <td>2000</td>\n",
       "      <td>1.5</td>\n",
       "      <td>NaN</td>\n",
       "      <td>True</td>\n",
       "    </tr>\n",
       "    <tr>\n",
       "      <th>1</th>\n",
       "      <td>서울</td>\n",
       "      <td>2001</td>\n",
       "      <td>1.7</td>\n",
       "      <td>NaN</td>\n",
       "      <td>True</td>\n",
       "    </tr>\n",
       "    <tr>\n",
       "      <th>2</th>\n",
       "      <td>서울</td>\n",
       "      <td>2002</td>\n",
       "      <td>3.6</td>\n",
       "      <td>-1.2</td>\n",
       "      <td>True</td>\n",
       "    </tr>\n",
       "    <tr>\n",
       "      <th>3</th>\n",
       "      <td>부산</td>\n",
       "      <td>2001</td>\n",
       "      <td>2.4</td>\n",
       "      <td>NaN</td>\n",
       "      <td>False</td>\n",
       "    </tr>\n",
       "    <tr>\n",
       "      <th>4</th>\n",
       "      <td>부산</td>\n",
       "      <td>2002</td>\n",
       "      <td>2.9</td>\n",
       "      <td>-1.5</td>\n",
       "      <td>False</td>\n",
       "    </tr>\n",
       "    <tr>\n",
       "      <th>5</th>\n",
       "      <td>부산</td>\n",
       "      <td>2003</td>\n",
       "      <td>3.2</td>\n",
       "      <td>NaN</td>\n",
       "      <td>False</td>\n",
       "    </tr>\n",
       "  </tbody>\n",
       "</table>\n",
       "</div>"
      ],
      "text/plain": [
       "   도시    년도   인구   부채     수도\n",
       "0  서울  2000  1.5  NaN   True\n",
       "1  서울  2001  1.7  NaN   True\n",
       "2  서울  2002  3.6 -1.2   True\n",
       "3  부산  2001  2.4  NaN  False\n",
       "4  부산  2002  2.9 -1.5  False\n",
       "5  부산  2003  3.2  NaN  False"
      ]
     },
     "execution_count": 41,
     "metadata": {},
     "output_type": "execute_result"
    }
   ],
   "source": [
    "frame[\"수도\"] = frame[\"도시\"] == \"서울\"\n",
    "frame"
   ]
  },
  {
   "cell_type": "markdown",
   "id": "6d30fcc7-1b8d-4b48-83eb-84dd8e77ad78",
   "metadata": {},
   "source": [
    "* del 예약어를 이용하여 새롭게 만든 열을 삭제할 수 있다."
   ]
  },
  {
   "cell_type": "code",
   "execution_count": 43,
   "id": "06556cfa-9035-4152-a23e-8ae36cc4df73",
   "metadata": {},
   "outputs": [
    {
     "data": {
      "text/plain": [
       "Index(['도시', '년도', '인구', '부채'], dtype='object')"
      ]
     },
     "execution_count": 43,
     "metadata": {},
     "output_type": "execute_result"
    }
   ],
   "source": [
    "del frame[\"수도\"]\n",
    "frame.columns"
   ]
  },
  {
   "cell_type": "markdown",
   "id": "4f96d244-249f-47ac-9e08-afb9624a64e6",
   "metadata": {},
   "source": [
    "* 다음과 같이 행과 열을 뒤집을 수 있다."
   ]
  },
  {
   "cell_type": "code",
   "execution_count": 44,
   "id": "d3e05f76-a6e7-4c95-b0e0-1870e51d0151",
   "metadata": {},
   "outputs": [
    {
     "data": {
      "text/html": [
       "<div>\n",
       "<style scoped>\n",
       "    .dataframe tbody tr th:only-of-type {\n",
       "        vertical-align: middle;\n",
       "    }\n",
       "\n",
       "    .dataframe tbody tr th {\n",
       "        vertical-align: top;\n",
       "    }\n",
       "\n",
       "    .dataframe thead th {\n",
       "        text-align: right;\n",
       "    }\n",
       "</style>\n",
       "<table border=\"1\" class=\"dataframe\">\n",
       "  <thead>\n",
       "    <tr style=\"text-align: right;\">\n",
       "      <th></th>\n",
       "      <th>0</th>\n",
       "      <th>1</th>\n",
       "      <th>2</th>\n",
       "      <th>3</th>\n",
       "      <th>4</th>\n",
       "      <th>5</th>\n",
       "    </tr>\n",
       "  </thead>\n",
       "  <tbody>\n",
       "    <tr>\n",
       "      <th>도시</th>\n",
       "      <td>서울</td>\n",
       "      <td>서울</td>\n",
       "      <td>서울</td>\n",
       "      <td>부산</td>\n",
       "      <td>부산</td>\n",
       "      <td>부산</td>\n",
       "    </tr>\n",
       "    <tr>\n",
       "      <th>년도</th>\n",
       "      <td>2000</td>\n",
       "      <td>2001</td>\n",
       "      <td>2002</td>\n",
       "      <td>2001</td>\n",
       "      <td>2002</td>\n",
       "      <td>2003</td>\n",
       "    </tr>\n",
       "    <tr>\n",
       "      <th>인구</th>\n",
       "      <td>1.5</td>\n",
       "      <td>1.7</td>\n",
       "      <td>3.6</td>\n",
       "      <td>2.4</td>\n",
       "      <td>2.9</td>\n",
       "      <td>3.2</td>\n",
       "    </tr>\n",
       "    <tr>\n",
       "      <th>부채</th>\n",
       "      <td>NaN</td>\n",
       "      <td>NaN</td>\n",
       "      <td>-1.2</td>\n",
       "      <td>NaN</td>\n",
       "      <td>-1.5</td>\n",
       "      <td>NaN</td>\n",
       "    </tr>\n",
       "  </tbody>\n",
       "</table>\n",
       "</div>"
      ],
      "text/plain": [
       "       0     1     2     3     4     5\n",
       "도시    서울    서울    서울    부산    부산    부산\n",
       "년도  2000  2001  2002  2001  2002  2003\n",
       "인구   1.5   1.7   3.6   2.4   2.9   3.2\n",
       "부채   NaN   NaN  -1.2   NaN  -1.5   NaN"
      ]
     },
     "execution_count": 44,
     "metadata": {},
     "output_type": "execute_result"
    }
   ],
   "source": [
    "frame.T"
   ]
  },
  {
   "cell_type": "markdown",
   "id": "76f5e797-4598-479e-b1d8-78edbf54edbd",
   "metadata": {},
   "source": [
    "## ___(2) 핵심기능___\n",
    "* 여기에서는 Series나 DataFrame에 저장된 데이터를 다루는 기본적인 방법을 설명한다.\n",
    "* 판다스 라이브러리에 대한 모든 것을 설명하기보다는 자주 사용하는 중요한 기능에 익숙해지는데 중점을 둔다.\n",
    "### __1. 재색인__\n",
    "* 새로운 색인에 적합하도록 객체를 새로 생성하는 기능\n",
    "* Series 객체에 대해서 reindex를 호출하면 데이터를 새로운 색인에 맞게 재배열하고, 존재하지 않는 색인값이 있다면 비어 있는 값을 새로 추가한다."
   ]
  },
  {
   "cell_type": "code",
   "execution_count": 53,
   "id": "11b2bd22-f827-4b05-833b-316fb29d0d09",
   "metadata": {},
   "outputs": [
    {
     "name": "stdout",
     "output_type": "stream",
     "text": [
      "d    4.5\n",
      "b    7.2\n",
      "a   -5.3\n",
      "c    3.6\n",
      "dtype: float64\n",
      "a   -5.3\n",
      "b    7.2\n",
      "c    3.6\n",
      "d    4.5\n",
      "e    NaN\n",
      "dtype: float64\n"
     ]
    }
   ],
   "source": [
    "obj = pd.Series([4.5,7.2,-5.3,3.6], index=[\"d\",\"b\",\"a\",\"c\"])\n",
    "print(obj)\n",
    "\n",
    "obj2 = obj.reindex([\"a\", \"b\", \"c\", \"d\", \"e\"])\n",
    "print(obj2)"
   ]
  },
  {
   "cell_type": "markdown",
   "id": "821750b0-3bc3-40d0-8b77-6c70aa7bc0cd",
   "metadata": {},
   "source": [
    "* DataFrame에 대한 reindex는 행(색인), 열 또는 둘 다 변경 가능하다. 그냥 순서만 전달하면 행이 재색인된다."
   ]
  },
  {
   "cell_type": "code",
   "execution_count": 58,
   "id": "4465cef5-4e39-4f72-8500-7a90f3bc3b97",
   "metadata": {},
   "outputs": [
    {
     "data": {
      "text/html": [
       "<div>\n",
       "<style scoped>\n",
       "    .dataframe tbody tr th:only-of-type {\n",
       "        vertical-align: middle;\n",
       "    }\n",
       "\n",
       "    .dataframe tbody tr th {\n",
       "        vertical-align: top;\n",
       "    }\n",
       "\n",
       "    .dataframe thead th {\n",
       "        text-align: right;\n",
       "    }\n",
       "</style>\n",
       "<table border=\"1\" class=\"dataframe\">\n",
       "  <thead>\n",
       "    <tr style=\"text-align: right;\">\n",
       "      <th></th>\n",
       "      <th>서울</th>\n",
       "      <th>부산</th>\n",
       "      <th>안산</th>\n",
       "    </tr>\n",
       "  </thead>\n",
       "  <tbody>\n",
       "    <tr>\n",
       "      <th>a</th>\n",
       "      <td>0</td>\n",
       "      <td>1</td>\n",
       "      <td>2</td>\n",
       "    </tr>\n",
       "    <tr>\n",
       "      <th>c</th>\n",
       "      <td>3</td>\n",
       "      <td>4</td>\n",
       "      <td>5</td>\n",
       "    </tr>\n",
       "    <tr>\n",
       "      <th>d</th>\n",
       "      <td>6</td>\n",
       "      <td>7</td>\n",
       "      <td>8</td>\n",
       "    </tr>\n",
       "  </tbody>\n",
       "</table>\n",
       "</div>"
      ],
      "text/plain": [
       "   서울  부산  안산\n",
       "a   0   1   2\n",
       "c   3   4   5\n",
       "d   6   7   8"
      ]
     },
     "execution_count": 58,
     "metadata": {},
     "output_type": "execute_result"
    }
   ],
   "source": [
    "frame = pd.DataFrame(np.arange(9).reshape((3,3)), index=[\"a\", \"c\", \"d\"], columns=[\"서울\", \"부산\", \"안산\"])\n",
    "frame"
   ]
  },
  {
   "cell_type": "code",
   "execution_count": 59,
   "id": "cf7afe5d-0045-47b8-bad6-7923c83fa59e",
   "metadata": {},
   "outputs": [
    {
     "data": {
      "text/html": [
       "<div>\n",
       "<style scoped>\n",
       "    .dataframe tbody tr th:only-of-type {\n",
       "        vertical-align: middle;\n",
       "    }\n",
       "\n",
       "    .dataframe tbody tr th {\n",
       "        vertical-align: top;\n",
       "    }\n",
       "\n",
       "    .dataframe thead th {\n",
       "        text-align: right;\n",
       "    }\n",
       "</style>\n",
       "<table border=\"1\" class=\"dataframe\">\n",
       "  <thead>\n",
       "    <tr style=\"text-align: right;\">\n",
       "      <th></th>\n",
       "      <th>서울</th>\n",
       "      <th>부산</th>\n",
       "      <th>안산</th>\n",
       "    </tr>\n",
       "  </thead>\n",
       "  <tbody>\n",
       "    <tr>\n",
       "      <th>a</th>\n",
       "      <td>0.0</td>\n",
       "      <td>1.0</td>\n",
       "      <td>2.0</td>\n",
       "    </tr>\n",
       "    <tr>\n",
       "      <th>b</th>\n",
       "      <td>NaN</td>\n",
       "      <td>NaN</td>\n",
       "      <td>NaN</td>\n",
       "    </tr>\n",
       "    <tr>\n",
       "      <th>c</th>\n",
       "      <td>3.0</td>\n",
       "      <td>4.0</td>\n",
       "      <td>5.0</td>\n",
       "    </tr>\n",
       "    <tr>\n",
       "      <th>d</th>\n",
       "      <td>6.0</td>\n",
       "      <td>7.0</td>\n",
       "      <td>8.0</td>\n",
       "    </tr>\n",
       "  </tbody>\n",
       "</table>\n",
       "</div>"
      ],
      "text/plain": [
       "    서울   부산   안산\n",
       "a  0.0  1.0  2.0\n",
       "b  NaN  NaN  NaN\n",
       "c  3.0  4.0  5.0\n",
       "d  6.0  7.0  8.0"
      ]
     },
     "execution_count": 59,
     "metadata": {},
     "output_type": "execute_result"
    }
   ],
   "source": [
    "frame2 = frame.reindex(index=[\"a\",\"b\",\"c\",\"d\"])\n",
    "frame2"
   ]
  },
  {
   "cell_type": "markdown",
   "id": "b909939a-1d7f-4cf4-bfee-920c74eed948",
   "metadata": {},
   "source": [
    "* 열은 columns 예약어를 사용해 재색인한다."
   ]
  },
  {
   "cell_type": "code",
   "execution_count": 63,
   "id": "2a143943-896c-4e0f-b519-f9a09482f25c",
   "metadata": {},
   "outputs": [
    {
     "data": {
      "text/html": [
       "<div>\n",
       "<style scoped>\n",
       "    .dataframe tbody tr th:only-of-type {\n",
       "        vertical-align: middle;\n",
       "    }\n",
       "\n",
       "    .dataframe tbody tr th {\n",
       "        vertical-align: top;\n",
       "    }\n",
       "\n",
       "    .dataframe thead th {\n",
       "        text-align: right;\n",
       "    }\n",
       "</style>\n",
       "<table border=\"1\" class=\"dataframe\">\n",
       "  <thead>\n",
       "    <tr style=\"text-align: right;\">\n",
       "      <th></th>\n",
       "      <th>서울</th>\n",
       "      <th>부산</th>\n",
       "      <th>안산</th>\n",
       "      <th>포승</th>\n",
       "    </tr>\n",
       "  </thead>\n",
       "  <tbody>\n",
       "    <tr>\n",
       "      <th>a</th>\n",
       "      <td>0.0</td>\n",
       "      <td>1.0</td>\n",
       "      <td>2.0</td>\n",
       "      <td>NaN</td>\n",
       "    </tr>\n",
       "    <tr>\n",
       "      <th>b</th>\n",
       "      <td>NaN</td>\n",
       "      <td>NaN</td>\n",
       "      <td>NaN</td>\n",
       "      <td>NaN</td>\n",
       "    </tr>\n",
       "    <tr>\n",
       "      <th>c</th>\n",
       "      <td>3.0</td>\n",
       "      <td>4.0</td>\n",
       "      <td>5.0</td>\n",
       "      <td>NaN</td>\n",
       "    </tr>\n",
       "    <tr>\n",
       "      <th>d</th>\n",
       "      <td>6.0</td>\n",
       "      <td>7.0</td>\n",
       "      <td>8.0</td>\n",
       "      <td>NaN</td>\n",
       "    </tr>\n",
       "  </tbody>\n",
       "</table>\n",
       "</div>"
      ],
      "text/plain": [
       "    서울   부산   안산  포승\n",
       "a  0.0  1.0  2.0 NaN\n",
       "b  NaN  NaN  NaN NaN\n",
       "c  3.0  4.0  5.0 NaN\n",
       "d  6.0  7.0  8.0 NaN"
      ]
     },
     "execution_count": 63,
     "metadata": {},
     "output_type": "execute_result"
    }
   ],
   "source": [
    "city=[\"서울\", \"부산\", \"안산\", \"포승\"]\n",
    "frame3 = frame2.reindex(columns=city)\n",
    "frame3"
   ]
  },
  {
   "cell_type": "markdown",
   "id": "42a57e84-7693-4e5d-8dd2-ee35ee539e57",
   "metadata": {},
   "source": [
    "* loc연산자를 이용해서 재색인 할 수 있으며, 많은 사용자가 이 방법을 선호한다.\n",
    "* 이 방법은 모든 새로운 색인 레이블이 DataFrame에 존재하는 경우에만 작동한다.   \n",
    "  (reindex 함수는 새로운 레이블에 대한 결측치를 삽입한다.)"
   ]
  },
  {
   "cell_type": "code",
   "execution_count": 72,
   "id": "9e867dca-d616-4e41-a5f3-17d0568f79c5",
   "metadata": {},
   "outputs": [
    {
     "data": {
      "text/html": [
       "<div>\n",
       "<style scoped>\n",
       "    .dataframe tbody tr th:only-of-type {\n",
       "        vertical-align: middle;\n",
       "    }\n",
       "\n",
       "    .dataframe tbody tr th {\n",
       "        vertical-align: top;\n",
       "    }\n",
       "\n",
       "    .dataframe thead th {\n",
       "        text-align: right;\n",
       "    }\n",
       "</style>\n",
       "<table border=\"1\" class=\"dataframe\">\n",
       "  <thead>\n",
       "    <tr style=\"text-align: right;\">\n",
       "      <th></th>\n",
       "      <th>서울</th>\n",
       "      <th>부산</th>\n",
       "    </tr>\n",
       "  </thead>\n",
       "  <tbody>\n",
       "    <tr>\n",
       "      <th>a</th>\n",
       "      <td>0</td>\n",
       "      <td>1</td>\n",
       "    </tr>\n",
       "    <tr>\n",
       "      <th>d</th>\n",
       "      <td>6</td>\n",
       "      <td>7</td>\n",
       "    </tr>\n",
       "    <tr>\n",
       "      <th>c</th>\n",
       "      <td>3</td>\n",
       "      <td>4</td>\n",
       "    </tr>\n",
       "  </tbody>\n",
       "</table>\n",
       "</div>"
      ],
      "text/plain": [
       "   서울  부산\n",
       "a   0   1\n",
       "d   6   7\n",
       "c   3   4"
      ]
     },
     "execution_count": 72,
     "metadata": {},
     "output_type": "execute_result"
    }
   ],
   "source": [
    "frame4 = frame.loc[[\"a\",\"d\",\"c\"],[\"서울\",\"부산\"]]\n",
    "frame4"
   ]
  },
  {
   "cell_type": "markdown",
   "id": "db9f2d00-566a-4ec3-a128-90003d20f1e6",
   "metadata": {},
   "source": [
    "### __2. 하나의 행이나 열 삭제하기__\n",
    "* drop() 메서드를 사용하면 선택한 값들이 삭제된 새로운 객체를 얻을 수 있다."
   ]
  },
  {
   "cell_type": "code",
   "execution_count": 76,
   "id": "a24f6a78-6d83-449f-a0ad-8b5cdd349cf8",
   "metadata": {},
   "outputs": [
    {
     "data": {
      "text/html": [
       "<div>\n",
       "<style scoped>\n",
       "    .dataframe tbody tr th:only-of-type {\n",
       "        vertical-align: middle;\n",
       "    }\n",
       "\n",
       "    .dataframe tbody tr th {\n",
       "        vertical-align: top;\n",
       "    }\n",
       "\n",
       "    .dataframe thead th {\n",
       "        text-align: right;\n",
       "    }\n",
       "</style>\n",
       "<table border=\"1\" class=\"dataframe\">\n",
       "  <thead>\n",
       "    <tr style=\"text-align: right;\">\n",
       "      <th></th>\n",
       "      <th>서울</th>\n",
       "      <th>부산</th>\n",
       "      <th>안산</th>\n",
       "    </tr>\n",
       "  </thead>\n",
       "  <tbody>\n",
       "    <tr>\n",
       "      <th>a</th>\n",
       "      <td>0.0</td>\n",
       "      <td>1.0</td>\n",
       "      <td>2.0</td>\n",
       "    </tr>\n",
       "    <tr>\n",
       "      <th>c</th>\n",
       "      <td>3.0</td>\n",
       "      <td>4.0</td>\n",
       "      <td>5.0</td>\n",
       "    </tr>\n",
       "  </tbody>\n",
       "</table>\n",
       "</div>"
      ],
      "text/plain": [
       "    서울   부산   안산\n",
       "a  0.0  1.0  2.0\n",
       "c  3.0  4.0  5.0"
      ]
     },
     "execution_count": 76,
     "metadata": {},
     "output_type": "execute_result"
    }
   ],
   "source": [
    "frame5 = frame3.drop(index=[\"b\", \"d\"], columns=[\"포승\"])\n",
    "frame5"
   ]
  },
  {
   "cell_type": "markdown",
   "id": "ec7097ca-4c91-48a5-8dba-9f575b558336",
   "metadata": {},
   "source": [
    "### __3. 색인하기, 선택하기, 거르기__\n",
    "* loc를 이용하면 색인에 정수가 포함되어 있지 않을 경우 오류가 발생한다.\n",
    "* loc는 라벨(이름) 기반 인덱싱으로 명시적인 행과 열의 라벨을 사용하여 데이터 접근이 가능\n",
    "* iloc는 위치 기반 인덱싱으로 정수형 인덱스를 사용하여 데이터 접근이 가능"
   ]
  },
  {
   "cell_type": "code",
   "execution_count": 83,
   "id": "82f33b58-58e6-4b6c-9eab-a937dd07ebe1",
   "metadata": {},
   "outputs": [
    {
     "name": "stdout",
     "output_type": "stream",
     "text": [
      "\n",
      "\n",
      "0    2\n",
      "1    3\n",
      "2    1\n",
      "dtype: int64\n",
      "\n",
      "\n",
      "a    1\n",
      "b    2\n",
      "c    3\n",
      "dtype: int64\n",
      "\n",
      "\n",
      "a    1\n",
      "b    2\n",
      "c    3\n",
      "dtype: int64\n"
     ]
    }
   ],
   "source": [
    "obj1 = pd.Series([1,2,3], index=[2,0,1])\n",
    "obj2 = pd.Series([1,2,3], index=[\"a\",\"b\",\"c\"])\n",
    "\n",
    "# obj1 인덱스에 정수가 포함되어 있기 때문에 loc가 정상 동작한다.\n",
    "print(\"\\n\")\n",
    "print(obj1.loc[[0,1,2]])\n",
    "\n",
    "# obj2 인덱스는 문자열로 되어 있기 때문에 loc[0,1,2]는 에러가 발생한다.\n",
    "print(\"\\n\")\n",
    "print(obj2.loc[[\"a\",\"b\",\"c\"]])\n",
    "\n",
    "# 인덱스에 정수를 포함하고 있는지 여부와 관계없이 일관되게 작동하도록 정수로만 색인을 위하는 iloc를 사용한다.\n",
    "print(\"\\n\")\n",
    "print(obj2.iloc[[0,1,2]])"
   ]
  },
  {
   "cell_type": "markdown",
   "id": "b8f6f97d-79b7-4407-9bd4-d2d4811a5cf2",
   "metadata": {},
   "source": [
    "* 레이블을 사용해 슬라이싱할 수 있다. 보통의 파이썬 슬라이싱과 다르게 엔드포인트가 포함된다."
   ]
  },
  {
   "cell_type": "code",
   "execution_count": 87,
   "id": "f4e0bffb-69fd-4a7d-96d9-6c82aa8a9a41",
   "metadata": {},
   "outputs": [
    {
     "data": {
      "text/plain": [
       "b    2\n",
       "c    3\n",
       "dtype: int64"
      ]
     },
     "execution_count": 87,
     "metadata": {},
     "output_type": "execute_result"
    }
   ],
   "source": [
    "obj2.loc[\"b\":\"c\"]"
   ]
  },
  {
   "cell_type": "code",
   "execution_count": 93,
   "id": "9fee2d00-cf18-4a6c-8f19-132339d4c4f6",
   "metadata": {},
   "outputs": [
    {
     "data": {
      "text/html": [
       "<div>\n",
       "<style scoped>\n",
       "    .dataframe tbody tr th:only-of-type {\n",
       "        vertical-align: middle;\n",
       "    }\n",
       "\n",
       "    .dataframe tbody tr th {\n",
       "        vertical-align: top;\n",
       "    }\n",
       "\n",
       "    .dataframe thead th {\n",
       "        text-align: right;\n",
       "    }\n",
       "</style>\n",
       "<table border=\"1\" class=\"dataframe\">\n",
       "  <thead>\n",
       "    <tr style=\"text-align: right;\">\n",
       "      <th></th>\n",
       "      <th>1th</th>\n",
       "      <th>2nd</th>\n",
       "      <th>3th</th>\n",
       "      <th>4rd</th>\n",
       "    </tr>\n",
       "  </thead>\n",
       "  <tbody>\n",
       "    <tr>\n",
       "      <th>a</th>\n",
       "      <td>0</td>\n",
       "      <td>1</td>\n",
       "      <td>2</td>\n",
       "      <td>3</td>\n",
       "    </tr>\n",
       "    <tr>\n",
       "      <th>b</th>\n",
       "      <td>4</td>\n",
       "      <td>5</td>\n",
       "      <td>6</td>\n",
       "      <td>7</td>\n",
       "    </tr>\n",
       "    <tr>\n",
       "      <th>c</th>\n",
       "      <td>8</td>\n",
       "      <td>9</td>\n",
       "      <td>10</td>\n",
       "      <td>11</td>\n",
       "    </tr>\n",
       "    <tr>\n",
       "      <th>d</th>\n",
       "      <td>12</td>\n",
       "      <td>13</td>\n",
       "      <td>14</td>\n",
       "      <td>15</td>\n",
       "    </tr>\n",
       "  </tbody>\n",
       "</table>\n",
       "</div>"
      ],
      "text/plain": [
       "   1th  2nd  3th  4rd\n",
       "a    0    1    2    3\n",
       "b    4    5    6    7\n",
       "c    8    9   10   11\n",
       "d   12   13   14   15"
      ]
     },
     "execution_count": 93,
     "metadata": {},
     "output_type": "execute_result"
    }
   ],
   "source": [
    "frame = pd.DataFrame(np.arange(16).reshape((4,4)), index=[\"a\", \"b\", \"c\", \"d\"], columns=[\"1th\", \"2nd\", \"3th\", \"4rd\"])\n",
    "frame"
   ]
  },
  {
   "cell_type": "markdown",
   "id": "18d884cc-1a52-404c-8a7d-757f16186902",
   "metadata": {},
   "source": [
    "* 슬라이싱으로 행을 선택할 수 있다."
   ]
  },
  {
   "cell_type": "code",
   "execution_count": 94,
   "id": "9352176e-15bd-45e2-8948-cd85eae748b8",
   "metadata": {},
   "outputs": [
    {
     "data": {
      "text/html": [
       "<div>\n",
       "<style scoped>\n",
       "    .dataframe tbody tr th:only-of-type {\n",
       "        vertical-align: middle;\n",
       "    }\n",
       "\n",
       "    .dataframe tbody tr th {\n",
       "        vertical-align: top;\n",
       "    }\n",
       "\n",
       "    .dataframe thead th {\n",
       "        text-align: right;\n",
       "    }\n",
       "</style>\n",
       "<table border=\"1\" class=\"dataframe\">\n",
       "  <thead>\n",
       "    <tr style=\"text-align: right;\">\n",
       "      <th></th>\n",
       "      <th>1th</th>\n",
       "      <th>2nd</th>\n",
       "      <th>3th</th>\n",
       "      <th>4rd</th>\n",
       "    </tr>\n",
       "  </thead>\n",
       "  <tbody>\n",
       "    <tr>\n",
       "      <th>a</th>\n",
       "      <td>0</td>\n",
       "      <td>1</td>\n",
       "      <td>2</td>\n",
       "      <td>3</td>\n",
       "    </tr>\n",
       "    <tr>\n",
       "      <th>b</th>\n",
       "      <td>4</td>\n",
       "      <td>5</td>\n",
       "      <td>6</td>\n",
       "      <td>7</td>\n",
       "    </tr>\n",
       "  </tbody>\n",
       "</table>\n",
       "</div>"
      ],
      "text/plain": [
       "   1th  2nd  3th  4rd\n",
       "a    0    1    2    3\n",
       "b    4    5    6    7"
      ]
     },
     "execution_count": 94,
     "metadata": {},
     "output_type": "execute_result"
    }
   ],
   "source": [
    "frame[:2]"
   ]
  },
  {
   "cell_type": "markdown",
   "id": "889d4122-8e6a-4ca1-b787-fee10af8080f",
   "metadata": {},
   "source": [
    "* 블리언 배열로 행을 선택할 수도 있다."
   ]
  },
  {
   "cell_type": "code",
   "execution_count": 99,
   "id": "500a3f2d-74c9-480a-9cba-d8267ce2be43",
   "metadata": {},
   "outputs": [
    {
     "data": {
      "text/html": [
       "<div>\n",
       "<style scoped>\n",
       "    .dataframe tbody tr th:only-of-type {\n",
       "        vertical-align: middle;\n",
       "    }\n",
       "\n",
       "    .dataframe tbody tr th {\n",
       "        vertical-align: top;\n",
       "    }\n",
       "\n",
       "    .dataframe thead th {\n",
       "        text-align: right;\n",
       "    }\n",
       "</style>\n",
       "<table border=\"1\" class=\"dataframe\">\n",
       "  <thead>\n",
       "    <tr style=\"text-align: right;\">\n",
       "      <th></th>\n",
       "      <th>1th</th>\n",
       "      <th>2nd</th>\n",
       "      <th>3th</th>\n",
       "      <th>4rd</th>\n",
       "    </tr>\n",
       "  </thead>\n",
       "  <tbody>\n",
       "    <tr>\n",
       "      <th>c</th>\n",
       "      <td>8</td>\n",
       "      <td>9</td>\n",
       "      <td>10</td>\n",
       "      <td>11</td>\n",
       "    </tr>\n",
       "    <tr>\n",
       "      <th>d</th>\n",
       "      <td>12</td>\n",
       "      <td>13</td>\n",
       "      <td>14</td>\n",
       "      <td>15</td>\n",
       "    </tr>\n",
       "  </tbody>\n",
       "</table>\n",
       "</div>"
      ],
      "text/plain": [
       "   1th  2nd  3th  4rd\n",
       "c    8    9   10   11\n",
       "d   12   13   14   15"
      ]
     },
     "execution_count": 99,
     "metadata": {},
     "output_type": "execute_result"
    }
   ],
   "source": [
    "frame[frame[\"3th\"] >= 10]"
   ]
  },
  {
   "cell_type": "markdown",
   "id": "3dcedd3a-a094-49bb-b134-0b1a6ac289d3",
   "metadata": {},
   "source": [
    "* 비교를 통해 생성된 블리언 DataFrame을 사용해서True값을 가진 위치에 0을 할당할 수 있다."
   ]
  },
  {
   "cell_type": "code",
   "execution_count": 101,
   "id": "7796fcaf-d05a-4cab-a40b-1688681b747a",
   "metadata": {},
   "outputs": [
    {
     "data": {
      "text/html": [
       "<div>\n",
       "<style scoped>\n",
       "    .dataframe tbody tr th:only-of-type {\n",
       "        vertical-align: middle;\n",
       "    }\n",
       "\n",
       "    .dataframe tbody tr th {\n",
       "        vertical-align: top;\n",
       "    }\n",
       "\n",
       "    .dataframe thead th {\n",
       "        text-align: right;\n",
       "    }\n",
       "</style>\n",
       "<table border=\"1\" class=\"dataframe\">\n",
       "  <thead>\n",
       "    <tr style=\"text-align: right;\">\n",
       "      <th></th>\n",
       "      <th>1th</th>\n",
       "      <th>2nd</th>\n",
       "      <th>3th</th>\n",
       "      <th>4rd</th>\n",
       "    </tr>\n",
       "  </thead>\n",
       "  <tbody>\n",
       "    <tr>\n",
       "      <th>a</th>\n",
       "      <td>0</td>\n",
       "      <td>0</td>\n",
       "      <td>0</td>\n",
       "      <td>0</td>\n",
       "    </tr>\n",
       "    <tr>\n",
       "      <th>b</th>\n",
       "      <td>0</td>\n",
       "      <td>5</td>\n",
       "      <td>6</td>\n",
       "      <td>7</td>\n",
       "    </tr>\n",
       "    <tr>\n",
       "      <th>c</th>\n",
       "      <td>8</td>\n",
       "      <td>9</td>\n",
       "      <td>10</td>\n",
       "      <td>11</td>\n",
       "    </tr>\n",
       "    <tr>\n",
       "      <th>d</th>\n",
       "      <td>12</td>\n",
       "      <td>13</td>\n",
       "      <td>14</td>\n",
       "      <td>15</td>\n",
       "    </tr>\n",
       "  </tbody>\n",
       "</table>\n",
       "</div>"
      ],
      "text/plain": [
       "   1th  2nd  3th  4rd\n",
       "a    0    0    0    0\n",
       "b    0    5    6    7\n",
       "c    8    9   10   11\n",
       "d   12   13   14   15"
      ]
     },
     "execution_count": 101,
     "metadata": {},
     "output_type": "execute_result"
    }
   ],
   "source": [
    "frame[frame < 5] = 0\n",
    "frame"
   ]
  },
  {
   "cell_type": "markdown",
   "id": "94cb407e-8e6d-4f99-ac80-0e29bfe8e4ab",
   "metadata": {},
   "source": [
    "* Series와 마찬가지로 DataFrame에는 레이블과 정수 기반 색인을 위한 loc, iloc 속성이 존재한다.\n",
    "* DataFrame은 2차원이므로 축 레이블(loc) 또는 정수 색인(iloc)를 이용해 행렬의 부분집합을 선택할 수 있다."
   ]
  },
  {
   "cell_type": "code",
   "execution_count": 103,
   "id": "57046a84-9b42-43d2-b7e9-3a3e2f095324",
   "metadata": {},
   "outputs": [
    {
     "data": {
      "text/html": [
       "<div>\n",
       "<style scoped>\n",
       "    .dataframe tbody tr th:only-of-type {\n",
       "        vertical-align: middle;\n",
       "    }\n",
       "\n",
       "    .dataframe tbody tr th {\n",
       "        vertical-align: top;\n",
       "    }\n",
       "\n",
       "    .dataframe thead th {\n",
       "        text-align: right;\n",
       "    }\n",
       "</style>\n",
       "<table border=\"1\" class=\"dataframe\">\n",
       "  <thead>\n",
       "    <tr style=\"text-align: right;\">\n",
       "      <th></th>\n",
       "      <th>4rd</th>\n",
       "      <th>1th</th>\n",
       "      <th>2nd</th>\n",
       "    </tr>\n",
       "  </thead>\n",
       "  <tbody>\n",
       "    <tr>\n",
       "      <th>b</th>\n",
       "      <td>7</td>\n",
       "      <td>0</td>\n",
       "      <td>5</td>\n",
       "    </tr>\n",
       "    <tr>\n",
       "      <th>c</th>\n",
       "      <td>11</td>\n",
       "      <td>8</td>\n",
       "      <td>9</td>\n",
       "    </tr>\n",
       "  </tbody>\n",
       "</table>\n",
       "</div>"
      ],
      "text/plain": [
       "   4rd  1th  2nd\n",
       "b    7    0    5\n",
       "c   11    8    9"
      ]
     },
     "execution_count": 103,
     "metadata": {},
     "output_type": "execute_result"
    }
   ],
   "source": [
    "frame.iloc[[1,2],[3,0,1]]"
   ]
  },
  {
   "cell_type": "markdown",
   "id": "60fc48b9-73ab-4979-9cec-f34533b6501e",
   "metadata": {},
   "source": [
    "### ___4. 산술 연산과 데이터 정렬___\n",
    "* 판다스는 서로 다른 색인을 가지고 있는 객체 간의 산술 연산을 간단하게 처리할 수 있다.\n",
    "* 서로 겹치는 색인이 없는 경우 데이터는 결측치가 된다. 추후 산술 연산 시 누락된 값이 전달된다."
   ]
  },
  {
   "cell_type": "code",
   "execution_count": 106,
   "id": "e3a0fe5c-d1f7-4ad2-b785-e5357c4106f2",
   "metadata": {},
   "outputs": [
    {
     "data": {
      "text/plain": [
       "a    5.2\n",
       "c    1.1\n",
       "d    NaN\n",
       "e    0.0\n",
       "f    NaN\n",
       "g    NaN\n",
       "dtype: float64"
      ]
     },
     "execution_count": 106,
     "metadata": {},
     "output_type": "execute_result"
    }
   ],
   "source": [
    "s1 = pd.Series([7.3,-2.5, 3.4,1.5], index=[\"a\",\"c\",\"d\",\"e\"])\n",
    "s2 = pd.Series([-2.1, 3.6, -1.5, 4,3.1], index=[\"a\", \"c\", \"e\", \"f\", \"g\"])\n",
    "s1+s2"
   ]
  },
  {
   "cell_type": "code",
   "execution_count": 111,
   "id": "59b1fad1-042f-4388-b574-b475af8c14ed",
   "metadata": {},
   "outputs": [
    {
     "name": "stdout",
     "output_type": "stream",
     "text": [
      "    b  c  d\n",
      "서울  0  1  2\n",
      "부산  3  4  5\n",
      "안산  6  7  8 \n",
      "\n",
      "    b   d   e\n",
      "포승  0   1   2\n",
      "서울  3   4   5\n",
      "부산  6   7   8\n",
      "수원  9  10  11 \n",
      "\n",
      "      b   c     d   e\n",
      "부산  9.0 NaN  12.0 NaN\n",
      "서울  3.0 NaN   6.0 NaN\n",
      "수원  NaN NaN   NaN NaN\n",
      "안산  NaN NaN   NaN NaN\n",
      "포승  NaN NaN   NaN NaN\n"
     ]
    }
   ],
   "source": [
    "df1 = pd.DataFrame(np.arange(9).reshape((3,3)), columns=list(\"bcd\"), index=[\"서울\", \"부산\", \"안산\"])\n",
    "print(df1,\"\\n\")\n",
    "df2 = pd.DataFrame(np.arange(12).reshape((4,3)), columns=list(\"bde\"), index=[\"포승\", \"서울\", \"부산\", \"수원\"])\n",
    "print(df2, \"\\n\")\n",
    "print(df1+df2)"
   ]
  },
  {
   "cell_type": "markdown",
   "id": "69132427-f2b6-43de-8852-c037162a4b80",
   "metadata": {},
   "source": [
    "* df1에 add메서드를 사용해서 df2와 fill_value값을 인수로 전달한다.\n",
    "* 연산에서 누락된 값은 fill_valye값으로 대체된다."
   ]
  },
  {
   "cell_type": "code",
   "execution_count": 113,
   "id": "a3667aaf-3f75-476c-8fea-7c2361ea6051",
   "metadata": {},
   "outputs": [
    {
     "data": {
      "text/html": [
       "<div>\n",
       "<style scoped>\n",
       "    .dataframe tbody tr th:only-of-type {\n",
       "        vertical-align: middle;\n",
       "    }\n",
       "\n",
       "    .dataframe tbody tr th {\n",
       "        vertical-align: top;\n",
       "    }\n",
       "\n",
       "    .dataframe thead th {\n",
       "        text-align: right;\n",
       "    }\n",
       "</style>\n",
       "<table border=\"1\" class=\"dataframe\">\n",
       "  <thead>\n",
       "    <tr style=\"text-align: right;\">\n",
       "      <th></th>\n",
       "      <th>b</th>\n",
       "      <th>c</th>\n",
       "      <th>d</th>\n",
       "      <th>e</th>\n",
       "    </tr>\n",
       "  </thead>\n",
       "  <tbody>\n",
       "    <tr>\n",
       "      <th>부산</th>\n",
       "      <td>9.0</td>\n",
       "      <td>4.0</td>\n",
       "      <td>12.0</td>\n",
       "      <td>8.0</td>\n",
       "    </tr>\n",
       "    <tr>\n",
       "      <th>서울</th>\n",
       "      <td>3.0</td>\n",
       "      <td>1.0</td>\n",
       "      <td>6.0</td>\n",
       "      <td>5.0</td>\n",
       "    </tr>\n",
       "    <tr>\n",
       "      <th>수원</th>\n",
       "      <td>9.0</td>\n",
       "      <td>NaN</td>\n",
       "      <td>10.0</td>\n",
       "      <td>11.0</td>\n",
       "    </tr>\n",
       "    <tr>\n",
       "      <th>안산</th>\n",
       "      <td>6.0</td>\n",
       "      <td>7.0</td>\n",
       "      <td>8.0</td>\n",
       "      <td>NaN</td>\n",
       "    </tr>\n",
       "    <tr>\n",
       "      <th>포승</th>\n",
       "      <td>0.0</td>\n",
       "      <td>NaN</td>\n",
       "      <td>1.0</td>\n",
       "      <td>2.0</td>\n",
       "    </tr>\n",
       "  </tbody>\n",
       "</table>\n",
       "</div>"
      ],
      "text/plain": [
       "      b    c     d     e\n",
       "부산  9.0  4.0  12.0   8.0\n",
       "서울  3.0  1.0   6.0   5.0\n",
       "수원  9.0  NaN  10.0  11.0\n",
       "안산  6.0  7.0   8.0   NaN\n",
       "포승  0.0  NaN   1.0   2.0"
      ]
     },
     "execution_count": 113,
     "metadata": {},
     "output_type": "execute_result"
    }
   ],
   "source": [
    "df3 = df1.add(df2, fill_value=0)\n",
    "df3"
   ]
  },
  {
   "cell_type": "markdown",
   "id": "eda14b6e-bb58-4c78-b8e4-ad04aa00696d",
   "metadata": {},
   "source": [
    "* 데이터는 기본적으로 오름차순으로 정렬되고, 내림차순으로도 정렬할 수 있다"
   ]
  },
  {
   "cell_type": "code",
   "execution_count": 114,
   "id": "0ff37b53-84f9-4f42-ba1d-99b83357c848",
   "metadata": {},
   "outputs": [
    {
     "data": {
      "text/html": [
       "<div>\n",
       "<style scoped>\n",
       "    .dataframe tbody tr th:only-of-type {\n",
       "        vertical-align: middle;\n",
       "    }\n",
       "\n",
       "    .dataframe tbody tr th {\n",
       "        vertical-align: top;\n",
       "    }\n",
       "\n",
       "    .dataframe thead th {\n",
       "        text-align: right;\n",
       "    }\n",
       "</style>\n",
       "<table border=\"1\" class=\"dataframe\">\n",
       "  <thead>\n",
       "    <tr style=\"text-align: right;\">\n",
       "      <th></th>\n",
       "      <th>e</th>\n",
       "      <th>d</th>\n",
       "      <th>c</th>\n",
       "      <th>b</th>\n",
       "    </tr>\n",
       "  </thead>\n",
       "  <tbody>\n",
       "    <tr>\n",
       "      <th>부산</th>\n",
       "      <td>8.0</td>\n",
       "      <td>12.0</td>\n",
       "      <td>4.0</td>\n",
       "      <td>9.0</td>\n",
       "    </tr>\n",
       "    <tr>\n",
       "      <th>서울</th>\n",
       "      <td>5.0</td>\n",
       "      <td>6.0</td>\n",
       "      <td>1.0</td>\n",
       "      <td>3.0</td>\n",
       "    </tr>\n",
       "    <tr>\n",
       "      <th>수원</th>\n",
       "      <td>11.0</td>\n",
       "      <td>10.0</td>\n",
       "      <td>NaN</td>\n",
       "      <td>9.0</td>\n",
       "    </tr>\n",
       "    <tr>\n",
       "      <th>안산</th>\n",
       "      <td>NaN</td>\n",
       "      <td>8.0</td>\n",
       "      <td>7.0</td>\n",
       "      <td>6.0</td>\n",
       "    </tr>\n",
       "    <tr>\n",
       "      <th>포승</th>\n",
       "      <td>2.0</td>\n",
       "      <td>1.0</td>\n",
       "      <td>NaN</td>\n",
       "      <td>0.0</td>\n",
       "    </tr>\n",
       "  </tbody>\n",
       "</table>\n",
       "</div>"
      ],
      "text/plain": [
       "       e     d    c    b\n",
       "부산   8.0  12.0  4.0  9.0\n",
       "서울   5.0   6.0  1.0  3.0\n",
       "수원  11.0  10.0  NaN  9.0\n",
       "안산   NaN   8.0  7.0  6.0\n",
       "포승   2.0   1.0  NaN  0.0"
      ]
     },
     "execution_count": 114,
     "metadata": {},
     "output_type": "execute_result"
    }
   ],
   "source": [
    "df3.sort_index(axis=\"columns\", ascending=False)"
   ]
  },
  {
   "cell_type": "markdown",
   "id": "d4a0ab5f-7f6b-4575-8806-76cd684c5276",
   "metadata": {},
   "source": [
    "* Series 객체를 값에 따라 정렬하고 싶다면 sord_values 메서드를 사용한다.\n",
    "* 정렬할 때 누락된 값(결측치)은 기본적으로 Series객체의 가장 마지막에 위치한다."
   ]
  },
  {
   "cell_type": "code",
   "execution_count": 116,
   "id": "885734e0-40e3-46aa-9c45-84c0dd53d3a1",
   "metadata": {},
   "outputs": [
    {
     "name": "stdout",
     "output_type": "stream",
     "text": [
      "2   -3\n",
      "3    2\n",
      "0    4\n",
      "1    7\n",
      "dtype: int64\n"
     ]
    }
   ],
   "source": [
    "obj = pd.Series([4,7,-3,2])\n",
    "print(obj.sort_values())"
   ]
  },
  {
   "cell_type": "markdown",
   "id": "93435245-0ebb-412e-a69e-9606e4f6fa84",
   "metadata": {},
   "source": [
    "* DataFrame에서 하나 이상의 열에 있는 값으로 정렬하는 경우에는 sort_values함수에 필요한 열의 이름을 넘긴다."
   ]
  },
  {
   "cell_type": "code",
   "execution_count": 117,
   "id": "296622d8-64b4-4c31-bf8e-3b5267848427",
   "metadata": {},
   "outputs": [
    {
     "name": "stdout",
     "output_type": "stream",
     "text": [
      "   b  a\n",
      "2 -3  0\n",
      "3  2  1\n",
      "0  4  0\n",
      "1  7  1\n"
     ]
    }
   ],
   "source": [
    "frame = pd.DataFrame({\"b\":[4,7,-3,2], \"a\":[0,1,0,1]})\n",
    "print(frame.sort_values(\"b\"))"
   ]
  },
  {
   "cell_type": "markdown",
   "id": "32260148-6bb7-40a2-94ad-9c6d529aafd4",
   "metadata": {},
   "source": [
    "## ___(3) 기술 통계 계산과 요약___"
   ]
  },
  {
   "cell_type": "code",
   "execution_count": null,
   "id": "1cbab25a-a9be-43cc-b50b-c1eaef6af758",
   "metadata": {},
   "outputs": [],
   "source": []
  }
 ],
 "metadata": {
  "kernelspec": {
   "display_name": "Python 3 (ipykernel)",
   "language": "python",
   "name": "python3"
  },
  "language_info": {
   "codemirror_mode": {
    "name": "ipython",
    "version": 3
   },
   "file_extension": ".py",
   "mimetype": "text/x-python",
   "name": "python",
   "nbconvert_exporter": "python",
   "pygments_lexer": "ipython3",
   "version": "3.12.7"
  }
 },
 "nbformat": 4,
 "nbformat_minor": 5
}
