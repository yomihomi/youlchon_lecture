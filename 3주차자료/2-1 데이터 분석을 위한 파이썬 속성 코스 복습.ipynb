{
 "cells": [
  {
   "cell_type": "markdown",
   "id": "d4555a2c-7a4f-40a8-9ec1-b28ae111e0da",
   "metadata": {},
   "source": [
    "# ___1. Python 변수와 자료형___"
   ]
  },
  {
   "cell_type": "markdown",
   "id": "252fe150-5923-4018-b0a2-4d448ba4bf04",
   "metadata": {},
   "source": [
    "### __목차__\n",
    "- [(1) 변수란](#(1)-변수란?)\n",
    "- [(2) 자료형](#(2)-자료형)\n",
    "  - [1. 기본 데이터 타입](#(2)-자료형)\n",
    "    - [① 숫자](#①-숫자)\n",
    "    - [② 문자열](#②-문자열)\n",
    "    - [③ 문자열 인덱싱과 슬라이싱](#③-문자열-인덱싱과-슬라이싱)\n",
    "    - [④ 그 밖에 문자열 함수](#④-그-밖에-문자열-함수)\n",
    "  - [2. 시퀀스 데이터 타입](#2.-시퀀스-데이터-타입)\n",
    "    - [① 리스트](#2.-시퀀스-데이터-타입)\n",
    "    - [② 튜플](#②-튜플)\n",
    "    - [③ Range](#③-Range)\n",
    "  - [3. 매핑 테이터 타입](#3.-매핑-데이터-타입)\n",
    "    - [① dict(딕셔너리)](#3.-매핑-데이터-타입)\n",
    "- [(3) 형변환](#(3)-형변환)\n",
    "  - [1. 명시적 형변환](#(3)-형변환)\n",
    "  - [2. 암시적 형변환](#2.-암시적-형변환-:-파이썬이-자동으로-형변환을-수행하는-경우)\n",
    "  - [3. 주의사항](#3.-주의사항)\n",
    "- [(4) 제어문](#(4)-제어문)\n",
    "  - [1. 조건문](#1.-조건문)\n",
    "  - [2. 반복문](#2.-반복문)\n",
    "  - [3. 반복제어문](#3.-반복제어문)\n",
    "- [(5) 연습문제](#(5)-연습문제)"
   ]
  },
  {
   "attachments": {
    "9c5794e1-628d-4489-ba48-b9b450138c72.png": {
     "image/png": "[encoded data removed]"
    }
   },
   "cell_type": "markdown",
   "id": "5655bfeb-e61a-4373-bc9a-b9a69e254225",
   "metadata": {},
   "source": [
    "## ___(1) 변수란?___\n",
    "#### ▷ 어떤 데이터를 담아두는 공간입니다.\n",
    "#### ▷ 실제로는 데이터가 저장된 공간을 가르키는 이름입니다.\n",
    "#### ▷ 데이터가 저장되는 공간을 ``객체``라고 합니다.\n",
    "#### ▷ 등호( = )를 수학에서는 식의 좌변과 우변이 같다는 뜻으로 사용되지만,\n",
    "#### 파이썬에서는 우변에 있는 값을 좌변에 ``할당``(저장)한다는 뜻으로 사용합니다.\n",
    "#### ▷ a라는 변수에 10을 저장하려면 다음과 같이 입력합니다.\n",
    "<div style=\"margin-left: 40px; font-size: 24px; font-weight: bold;\">\n",
    "   a = 10\n",
    "</div>\n",
    "\n",
    "```\n",
    "  실제로는 \"10이라는 값을 가지는 정수타입 객체를 만들고, a라는 변수가 그 객체를 가리키게 한다\" 는\n",
    "  뜻이지만, \"a라는 변수에 10을 저장한다\" 라고 간단하게 말합니다.\n",
    "```\n",
    "<blockquote>\n",
    "   - 메모리에 우변에 있는 10이라는 데이터를 저장할 객체를 생성<br>\n",
    "   - 우변의 값에 따라 객체의 타입이 결정 (정수형, 실수형, 문자열, 리스트, 튜플, 딕셔너리 등등)<br>\n",
    "   - a라는 이름이 생성된 객체를 가리키도록 함<br>\n",
    "   - 객체의 자료형을 확인할 때 사용하는 type() 함수는 변수가 가리키는 객체의 타입을 출력<br>\n",
    "   - a라는 변수 자체는 타입이 없음<br>\n",
    "</blockquote>\n",
    "\n",
    "![image.png](attachment:9c5794e1-628d-4489-ba48-b9b450138c72.png)\n",
    "#### ▷ 변수이름은 숫자, 문자, 언더바를 사용할 수 있고, 대소문자를 구분함\n",
    "#### ▷ 정수(int), 문자열(str), 튜플(tuple) 등은 ___불변 객체___\n",
    "##### * 불변 객체는 객체를 수정할 수 없으며, 값을 변경하면 새로운 객체가 생성\n",
    "#### ▷ 리스트(list), 딕셔너리(dict) 등은 ___가변 객체___\n",
    "##### * 가변 객체는 같은 객체를 참조하며 한 변수에서 수정한 값이 다른 변수에도 영향을 줍니다."
   ]
  },
  {
   "cell_type": "markdown",
   "id": "c3f9bc71-77a4-4121-a9eb-c87f7c4c5804",
   "metadata": {},
   "source": [
    "## ___(2) 자료형___\n",
    "### __1. 기본 데이터 타입__\n",
    "   * int: 정수형 (예: 42, -5)  \n",
    "   * float: 실수형 (예: 3.14, -0.01)  \n",
    "   * complex: 복소수형 (예: 1 + 2j)  \n",
    "   * bool: 논리형 (참/거짓, 예: True, False)  \n",
    "   * str: 문자열형 (예: \"hello\", 'world') &nbsp;&nbsp;&nbsp;&nbsp;※문자열은 시퀀스 타입으로도 간주되며, 시퀀스 관련 기능을 사용할 수 있음 \n",
    "#### ___① 숫자___\n",
    "* True나 False는 0과 1로도 표현할 수 있으나 명시적으로 표현하기 위해 boolean타입 True와 False를 사용합니다.\n",
    "* ``1``과 ``True``는 같지만 ``1``과 ``\"1\"``은 다릅니다.\n",
    "* type() 함수를 이용하면 데이터 타입을 확인할 수 있습니다.\n",
    "* 정수 연산자에는 ``+``(더하기), ``-``(빼기), ``*``(곱하기), ``/``(부동소수점 나누기), ``//``(정수나누기), ``%``(나머지 계산하기), ``**``(지수 계산하기) 등이 있습니다."
   ]
  },
  {
   "cell_type": "code",
   "execution_count": null,
   "id": "e26609a7-eb96-45f0-a608-370561a95f40",
   "metadata": {},
   "outputs": [],
   "source": [
    "# 1. True를 출력해 보세요.\n",
    "True"
   ]
  },
  {
   "cell_type": "code",
   "execution_count": null,
   "id": "d5d173c0-9675-4885-a16c-84b79435a804",
   "metadata": {},
   "outputs": [],
   "source": [
    "# 2. False를 출력해 보세요.\n",
    "False"
   ]
  },
  {
   "cell_type": "code",
   "execution_count": null,
   "id": "b071847d-c6f3-446e-b7ae-2bf6cce23ec6",
   "metadata": {},
   "outputs": [],
   "source": [
    "# 3. True는 1과 같음을 표현해 보세요. 파이썬에서는 같음을 비교할 때 == 연산을 사용합니다.\n",
    "True == 1"
   ]
  },
  {
   "cell_type": "code",
   "execution_count": null,
   "id": "1e72a27a-e97d-4293-a8a9-18894a6a58ba",
   "metadata": {},
   "outputs": [],
   "source": [
    "# 4. 하지만 True는 문자 1과 다릅니다. 1을 따옴표로 감싸면 문자열이 됩니다.\n",
    "True == \"1\""
   ]
  },
  {
   "cell_type": "code",
   "execution_count": null,
   "id": "5365683a-f3a6-43b5-a108-e407d4971ee0",
   "metadata": {},
   "outputs": [],
   "source": [
    "# 5. 문자열 1과 True는 다릅니다.\n",
    "\"1\" == True"
   ]
  },
  {
   "cell_type": "code",
   "execution_count": null,
   "id": "cadd7d24-606d-4bbf-b00d-a869df877d0e",
   "metadata": {},
   "outputs": [],
   "source": [
    "# 6. False도 마찬가지 입니다.\n",
    "\"1\" == False"
   ]
  },
  {
   "cell_type": "code",
   "execution_count": null,
   "id": "c52be7e4-b921-4e88-9a11-0dd0f2f7c248",
   "metadata": {},
   "outputs": [],
   "source": [
    "# 7. False는 문자열 0과 다릅니다.\n",
    "False == \"0\""
   ]
  },
  {
   "cell_type": "code",
   "execution_count": null,
   "id": "a546c445-569f-439a-a4f7-5dabfec2ba72",
   "metadata": {},
   "outputs": [],
   "source": [
    "# 8. and 연산으로 True 값 끼리 비교합니다. and는 모든 값이 True 일때만 True가 됩니다.\n",
    "True & False"
   ]
  },
  {
   "cell_type": "code",
   "execution_count": null,
   "id": "58bfba8b-2dc6-4c0e-b382-3a30240bd402",
   "metadata": {},
   "outputs": [],
   "source": [
    "# 9. and는 조건 중 하나라도 False라면 False가 됩니다.\n",
    "a = 10\n",
    "a > 0 and a < 10"
   ]
  },
  {
   "cell_type": "code",
   "execution_count": null,
   "id": "a4de605c-98b9-46a9-97b5-997ac182b676",
   "metadata": {},
   "outputs": [],
   "source": [
    "# 10. or은 하나만 True 라도 True가 됩니다.\n",
    "a = 10\n",
    "a > 0 | a < 10"
   ]
  },
  {
   "cell_type": "code",
   "execution_count": null,
   "id": "24d49682-861f-49e6-8d12-bbd9f576c232",
   "metadata": {},
   "outputs": [],
   "source": [
    "# 11. 숫자 1을 출력해 보세요.\n",
    "1"
   ]
  },
  {
   "cell_type": "code",
   "execution_count": null,
   "id": "03efb2ef-c66e-4d44-afff-cdc0c897c5ce",
   "metadata": {},
   "outputs": [],
   "source": [
    "# 12. 문자 1을 출력해 보세요.\n",
    "\"1\""
   ]
  },
  {
   "cell_type": "code",
   "execution_count": null,
   "id": "8677ad59-a624-42c9-803a-058c222ac941",
   "metadata": {},
   "outputs": [],
   "source": [
    "# 13. 숫자 1의 데이터 타입을 출력해 보세요.\n",
    "type(1)"
   ]
  },
  {
   "cell_type": "code",
   "execution_count": null,
   "id": "664c5aab-1b8c-4d1f-99a0-d4921a49da88",
   "metadata": {},
   "outputs": [],
   "source": [
    "# 14. 문자 1의 데이터 타입을 출력해 보세요.\n",
    "type(\"str\")"
   ]
  },
  {
   "cell_type": "code",
   "execution_count": null,
   "id": "3f6db091-2e21-4819-88ee-ecce111162af",
   "metadata": {},
   "outputs": [],
   "source": [
    "# 15. 문자 1과 숫자 1을 비교합니다.\n",
    "1 == \"1\""
   ]
  },
  {
   "cell_type": "code",
   "execution_count": null,
   "id": "84113ef4-4682-4f4a-913a-651728329b1c",
   "metadata": {},
   "outputs": [],
   "source": [
    "# 16. 7을 2로 나눈 값을 출력해 보세요. (/는 부동소수점을 포함한 결과가 출력된다.)\n",
    "7/2"
   ]
  },
  {
   "cell_type": "code",
   "execution_count": null,
   "id": "f3520e99-74e6-47a2-83f4-0f00fd8da4f8",
   "metadata": {},
   "outputs": [],
   "source": [
    "# 17. 7을 2로 나눈 정수값을 출력해 보세요. (//는 부동소수점을 제외한 결과가 출력된다.)\n",
    "7//2"
   ]
  },
  {
   "cell_type": "code",
   "execution_count": null,
   "id": "cce176a7-5a65-4ad0-9b88-67528b5134b5",
   "metadata": {},
   "outputs": [],
   "source": [
    "# 18. 7을 4로 나눈 나머지를 출력해 보세요. (% 연산자를 나머지가 출력된다.)\n",
    "7 % 4"
   ]
  },
  {
   "cell_type": "code",
   "execution_count": null,
   "id": "2329da3e-e2f2-49d8-b01e-9fd03b11db99",
   "metadata": {},
   "outputs": [],
   "source": [
    "# 19. 2의 3.5제곱값을 출력해 보세요. (** 연산자는 부동소수점을 사용할 수 있다)\n",
    "2**3.5"
   ]
  },
  {
   "cell_type": "markdown",
   "id": "f2700d86-30b2-4980-a33c-33a7081fdabd",
   "metadata": {},
   "source": [
    "#### ___② 문자열___\n",
    "\n",
    "* 문자열은 텍스트 데이터를 다루는 기본 자료형 입니다.\n",
    "* 문자열은 큰 따옴표(``\"``) 또는 작은 따옴표(``'``)로 감싸서 생성할 수 있습니다.\n",
    "* 문자열은 생성된 이후 변경할 수 없는 ___불변 객체___ 입니다.\n",
    "* 문자열 연산자에는 문자열 연결을 위한 ``+`` 연산자와 반복을 위한 ``*`` 연산자가 있습니다.\n",
    "* 파이썬 문자열은 다양한 내장 매세드를 제공합니다.\n",
    "* 변수이름 다음에 .을 입력하고 tab키를 누르면 객체가 제공하는 함수를 확인할 수 있습니다.\n",
    "  \n",
    "<blockquote>\n",
    "\n",
    "    ♣ 변환\n",
    "    → upper(): 대문자로 변환\n",
    "    → lower(): 소문자로 변환\n",
    "    \n",
    "    ♣ 검사\n",
    "    → startswith(), endswith(): 특정 문자열로 시작하거나 끝나는지 확인\n",
    "    → isdigit(): 숫자인지 확인\n",
    "    \n",
    "    ♣ 조작\n",
    "    → strip(): 공백 제거\n",
    "    → replace(): 특정 문자열 대체\n",
    "    → split(): 문자열을 나눠 리스트로 반환\n",
    "    → join(): 리스트를 문자열로 결합\n",
    "</blockquote>\n",
    "\n",
    "* 문자열은 불변 객체이기 때문에 문자열 함수를 이용하여 변환된 문자열을 저장하려면 좌변에 할당해줘야 합니다.<br>\n",
    "&nbsp;&nbsp;&nbsp;&nbsp;___til = \"Today I Learned\"___ <br>\n",
    "&nbsp;&nbsp;&nbsp;&nbsp;___til = til.lower()___ <br>\n",
    "&nbsp;&nbsp;&nbsp;&nbsp;___print(til)___ &nbsp;&nbsp;#today i learned <br>"
   ]
  },
  {
   "cell_type": "code",
   "execution_count": null,
   "id": "96b423b2-4652-4ef5-ab03-c91422016403",
   "metadata": {},
   "outputs": [],
   "source": [
    "# 20. \"Hello World!\"를 출력해 봅니다.\n",
    "print(\"Hello World\")"
   ]
  },
  {
   "cell_type": "code",
   "execution_count": null,
   "id": "f1eb93d4-a76c-454a-a28f-5de8e7c7d579",
   "metadata": {},
   "outputs": [],
   "source": [
    "# 21. 주소 '경기도 성남시 분당구'를 출력해 봅니다.\n",
    "print('경기도 성남시 분당구')"
   ]
  },
  {
   "cell_type": "code",
   "execution_count": null,
   "id": "4ea357d6-aae6-4f80-b6be-2949535dac7e",
   "metadata": {},
   "outputs": [],
   "source": [
    "# 22. 왜 2가지 종류의 따옴표가 있을까요? 주된 이유는 따옴표가 포함된 문자열을 만들기 위해서입니다.\n",
    "# 다음 문자열을 출력해 보세요 she said, \"python is amazing!\"\n",
    "print(\"she said, 'python is amazing!'\")"
   ]
  },
  {
   "cell_type": "code",
   "execution_count": null,
   "id": "9586f52b-a496-450e-b20b-e0ae099c3a50",
   "metadata": {},
   "outputs": [],
   "source": [
    "# 23. til이라는 변수에 \"Today I Learned\" 라는 문자열을 담아봅니다.\n",
    "til = \"Today I Learned\""
   ]
  },
  {
   "cell_type": "code",
   "execution_count": null,
   "id": "f8c37f9a-2931-414b-aed2-ceac636213dd",
   "metadata": {},
   "outputs": [],
   "source": [
    "# 24. 모두 소문자로 만들어보세요 (lower)\n",
    "til = til.lower()"
   ]
  },
  {
   "cell_type": "code",
   "execution_count": null,
   "id": "f6634bd1-9a7c-453f-9705-8ad1baf8be1e",
   "metadata": {},
   "outputs": [],
   "source": [
    "# 25. print함수를 이용하여 til을 출력하세요\n",
    "print(til)"
   ]
  },
  {
   "cell_type": "code",
   "execution_count": null,
   "id": "c424eedf-ddd7-46ae-af8b-ec843a95d973",
   "metadata": {},
   "outputs": [],
   "source": [
    "# 26. 모두 대문자로 만들어보세요 (upper)\n",
    "til.upper()"
   ]
  },
  {
   "cell_type": "code",
   "execution_count": null,
   "id": "06750055-5ff5-4eda-b167-47a20c8be251",
   "metadata": {},
   "outputs": [],
   "source": [
    "# 27. 더 많은 문자열 함수를 확인하려면 변수이름 다음에 .을 입력하고 tab키를 누르세요 (til.)\n",
    "til.isdigit()"
   ]
  },
  {
   "cell_type": "code",
   "execution_count": null,
   "id": "0cfc9eee-12ab-4261-bc57-a20842473ed3",
   "metadata": {},
   "outputs": [],
   "source": [
    "# 28. * 연산자를 이용하여 문자열을 복제하고 + 연산자를 이용하여 결합할 수 있습니다."
   ]
  },
  {
   "cell_type": "code",
   "execution_count": null,
   "id": "1b7a646e-df04-4b1a-937e-1b240c42ca80",
   "metadata": {},
   "outputs": [],
   "source": [
    "start = 'Na' * 4 + '\\n'\n",
    "middle = 'hey' * 3 + '\\n'\n",
    "end ='Goodbye.'\n",
    "print(start,start,middle,end) # print()는 각 인수 사이에 공백을 붙입니다."
   ]
  },
  {
   "cell_type": "markdown",
   "id": "0859ad22-437d-497d-b488-6ba08329689a",
   "metadata": {},
   "source": [
    "#### ___③ 문자열 인덱싱과 슬라이싱___\n",
    "* 문자열은 인덱스를 사용해 개별 문자에 접근할 수 있습니다.\n",
    "\n",
    "<blockquote>\n",
    "  s = \"Python\"<br>\n",
    "  print(s[0])  # 'P' (첫 번째 문자)<br>\n",
    "  print(s[-1])  # 'n' (마지막 문자)<br>\n",
    "</blockquote>\n",
    "\n",
    "* 슬라이싱으로 서브스트링을 추출할 수 있습니다.\n",
    "\n",
    "<blockquote>\n",
    "  [ : ] 처음부터 끝까지 전체 시퀀스를 추출한다.<br>\n",
    "  [ start : ] start 오프셋부터 끝까지 시퀀스를 추출한다.<br>\n",
    "  [ : end ] 처음부터 end-1 오프셋까지 시퀀스를 추출한다.<br>\n",
    "  [ start : end ] start 오프셋부터 end-1 오프셋까지 시퀀스를 추출한다.<br>\n",
    "  [ start : end : step ] step 만큼 문자를 건너뛰면서, start 오프셋부터 end-1 오프셋까지 시퀀스를 추출한다.<br>\n",
    "<br>\n",
    "  주의! 슬라이싱 start 오프셋은 해당 문자를 포함하지만, end 오프셋은 해당문자를 포함하지 않습니다.<br>\n",
    "  그래서 end-1 오프셋까지 시퀀스를 추출하게 됩니다. 아래 예제 #34, #35를 확인해보세요.\n",
    "</blockquote>"
   ]
  },
  {
   "cell_type": "code",
   "execution_count": null,
   "id": "a0706ddc-0328-4fb2-8186-65b9c067febe",
   "metadata": {},
   "outputs": [],
   "source": [
    "# 29. letters의 세번째 글자와 마지막 문자를 출력하세요\n",
    "# 문자열에서 한 문자를 얻기 위해서는 문자열 이름 뒤에 대괄호 []와 오프셋을 지정합니다.\n",
    "letters = 'abcdefghijklmnopqrstuvwxyz'"
   ]
  },
  {
   "cell_type": "code",
   "execution_count": null,
   "id": "b705d2fc-2db9-4a5d-9495-edd1258454b3",
   "metadata": {},
   "outputs": [],
   "source": [
    "# 30. letters의 첫번째 글자를 P로 변경하세요\n",
    "# letters[0] = 'p' # 문자열은 불변하기 때문에 특정 인덱스에 문자를 삽입하거나 변경할 수 없습니다.\n",
    "# letters.replace('a', 'p') # replace함수는 문자열에 있는 모든 문자를 변경합니다.\n",
    "#'p' + letters[1:] # 슬라이스를 이용하여 문자열 일부를 추출할 수 있습니다."
   ]
  },
  {
   "cell_type": "code",
   "execution_count": null,
   "id": "a2fe6f80-0460-4538-a8e4-3ab461cdf098",
   "metadata": {},
   "outputs": [],
   "source": [
    "# 31. letters에 저장된 문자열에서 오프셋 20부터 문자열 끝까지 추출하세요\n",
    "letters[20:]"
   ]
  },
  {
   "cell_type": "code",
   "execution_count": null,
   "id": "5d00b3be-8eef-49e9-9964-dce8b8b733c5",
   "metadata": {},
   "outputs": [],
   "source": [
    "# 32. letters에 저장된 문자열에서 오프셋 12부터 14까지 추출하세요\n",
    "letters[12:14]"
   ]
  },
  {
   "cell_type": "code",
   "execution_count": null,
   "id": "8797865d-4428-4a89-b755-ab22f526eb3d",
   "metadata": {},
   "outputs": [],
   "source": [
    "# 33. letters에 저장된 문자열에서 마지막 세 문자를 추출하세요\n",
    "letters[-3:]"
   ]
  },
  {
   "cell_type": "code",
   "execution_count": null,
   "id": "34316eb1-cd75-4f81-a958-801134dc6f33",
   "metadata": {},
   "outputs": [],
   "source": [
    "# 34. letters에 저장된 문자열에서 오프셋 18부터 마지막 네 번째 문자(w)까지 추출하세요\n",
    "letters[18:-3]"
   ]
  },
  {
   "cell_type": "code",
   "execution_count": null,
   "id": "4e53af21-40ab-43e6-b4f9-ea38ca5776d6",
   "metadata": {},
   "outputs": [],
   "source": [
    "# 35. letters에 저장된 문자열에서 끝에서 여섯 번째 문자(u)부터 끝에서 세 번째 문자(x)까지 추출하세요\n",
    "letters[-6:-2]"
   ]
  },
  {
   "cell_type": "code",
   "execution_count": null,
   "id": "11f126b0-9043-4e63-920a-24f51bae8dd9",
   "metadata": {},
   "outputs": [],
   "source": [
    "# 36. letters에 저장된 문자열에서 처음부터 끝까지 2스텝씩 건너뛰면서 문자를 추출하세요\n",
    "letters[::2]"
   ]
  },
  {
   "cell_type": "markdown",
   "id": "7f3ce004-c302-4d13-bd1f-4ab230a89a8e",
   "metadata": {},
   "source": [
    "#### ___④ 그 밖에 문자열 함수___\n",
    "* len() 함수를 사용하여 문자열의 길이를 확인할 수 있습니다.\n",
    "* in 키워드는 리스트나 문자열과 같은 시퀀스에서 특정 값이 존재하는지 확인하는데 사용합니다.\n",
    "* split함수는 문자열을 특정 구분자로 나누어 ``리스트`` 형태로 반환합니다.\n",
    "* 문자열을 지정된 폭(width) 안에서 특정 방향으로 정렬할 수 있습니다."
   ]
  },
  {
   "cell_type": "code",
   "execution_count": null,
   "id": "79014518-7320-4939-82a9-f2793f96fd41",
   "metadata": {},
   "outputs": [],
   "source": [
    "# 37. 주소를 address 변수에 저장합니다.\n",
    "# \"   경기도 성남시 분당구 불정로 6 NAVER 그린팩토리 16층   \"\n",
    "address = \"   경기도 성남시 분당구 불정로 6 NAVER 그린팩토리 16층   \"\n",
    "address"
   ]
  },
  {
   "cell_type": "code",
   "execution_count": null,
   "id": "9569cf49-d082-4648-8e2f-c2b3bb0a6c44",
   "metadata": {},
   "outputs": [],
   "source": [
    "# 38. 앞뒤 공백을 제거합니다. (strip)\n",
    "# 데이터 전처리 시 주로 사용합니다.\n",
    "# 결과를 다시 넣어주어야 합니다.\n",
    "address = address.strip()\n",
    "address"
   ]
  },
  {
   "cell_type": "code",
   "execution_count": null,
   "id": "c058e66e-d1c0-431f-872d-ddb31c75f203",
   "metadata": {},
   "outputs": [],
   "source": [
    "# 39. address에 저장된 문자열의 길이를 출력해 보세요. (len)\n",
    "len(address)"
   ]
  },
  {
   "cell_type": "code",
   "execution_count": null,
   "id": "64d620ce-5939-4dcd-bd81-a0b85d80ae5f",
   "metadata": {},
   "outputs": [],
   "source": [
    "# 40. address에 저장된 문자열을 공백으로 분리해보세요 (split)\n",
    "address.split()"
   ]
  },
  {
   "cell_type": "code",
   "execution_count": null,
   "id": "5e62079c-2a15-4372-b13f-faf189f51795",
   "metadata": {},
   "outputs": [],
   "source": [
    "# 41. address에 저장된 문자열을 '구'로 분리해보세요 -특정 문자료 문자열 분리하려면 split(\"구문문자\")\n",
    "address.split(\"시\")"
   ]
  },
  {
   "cell_type": "code",
   "execution_count": null,
   "id": "32fe70c0-b6b3-46c5-9306-f231541c5762",
   "metadata": {},
   "outputs": [],
   "source": [
    "# 42. startswith를 사용하여 address가 \"경기\" 라는 문자열로 시작하는지 확인해 보세요.\n",
    "address.startswith(\"경기\")"
   ]
  },
  {
   "cell_type": "code",
   "execution_count": null,
   "id": "2a3ba2ba-ef49-4ac5-bb88-63fe8e7cf242",
   "metadata": {},
   "outputs": [],
   "source": [
    "# 43. in을 사용하여 address에 \"경기\" 라는 문자열을 포함하고 있는지 확인해 보세요.\n",
    "\"경기\" in address\n",
    "\n",
    "# in 키워드 사용법 : substring in string\n",
    "# substring - 검색하려는 부분 문자열\n",
    "# string - 검색 대상이 되는 전체 문자열"
   ]
  },
  {
   "cell_type": "code",
   "execution_count": null,
   "id": "0a1a1e17-cbe9-4301-8759-4b62fd897ede",
   "metadata": {},
   "outputs": [],
   "source": [
    "# 44. center함수를 사용하여 str을 중앙 정렬해보세요\n",
    "str = \"12345\"\n",
    "str.center(10)"
   ]
  },
  {
   "cell_type": "code",
   "execution_count": null,
   "id": "89fd5223-c5bf-4717-be05-06513f06a8ce",
   "metadata": {},
   "outputs": [],
   "source": [
    "# 45. ljust 함수를 사용하여 str을 왼쪽 정렬해보세요\n",
    "str.ljust(10)"
   ]
  },
  {
   "cell_type": "code",
   "execution_count": null,
   "id": "2dabf37d-96e0-40c2-8546-6a4b03ddc617",
   "metadata": {},
   "outputs": [],
   "source": [
    "# 46. rjust 함수를 사용하여 str을 오른쪽 정렬해보세요\n",
    "str.rjust(10)"
   ]
  },
  {
   "attachments": {
    "17d19f96-1209-43f7-9326-5c394427a15d.png": {
     "image/png": "[encoded data removed]"
    },
    "4202809e-5612-433c-891c-784a947799ba.png": {
     "image/png": "[encoded data removed]"
    },
    "62544e81-6847-4ccf-b2c2-31de485f03e2.png": {
     "image/png": "[encoded data removed]"
    },
    "9db88831-2d6c-4b30-9ffd-af7b0d9d02a5.png": {
     "image/png": "[encoded data removed]"
    },
    "b67caf35-ce61-4f4a-bcac-6c6ab5a46344.png": {
     "image/png": "[encoded data removed]"
    },
    "bbc2ea1f-8c01-4efb-812c-fc22a3cea127.png": {
     "image/png": "[encoded data removed]"
    },
    "f66ad9cf-bd20-4e0a-b5fe-f4f85cd44aec.png": {
     "image/png": "[encoded data removed]"
    }
   },
   "cell_type": "markdown",
   "id": "e42a33a7-635e-4425-83d3-6b6ad9686b75",
   "metadata": {},
   "source": [
    "### ___2. 시퀀스 데이터 타입___<br>\n",
    "* 시퀀스 데이터 타입은 순서가 있는 데이터를 말합니다.\n",
    "* 시퀀스 데이터 타입의 종류는 다음과 같습니다.\n",
    "   * list: 리스트 (변경 가능, 예: [1, 2, 3])  \n",
    "   * tuple: 튜플 (변경 불가능, 예: (1, 2, 3))  \n",
    "   * range: 범위 (예: range(5)는 0부터 4까지 생성)  \n",
    "\n",
    "#### ___① list___\n",
    "* 파이썬의 리스트는 데이터를 순서대로 저장합니다. 리스트는 대괄호 ``[]``로 둘러싸여 있으며,   \n",
    "  리스트 안에 있는 각각의 데이터를 요소(element)라고 합니다. 요소는 쉼표로 구분됩니다.\n",
    "* 리스트는 다양한 데이터 타입을 포함할 수 있습니다.\n",
    "\n",
    "<blockquote>\n",
    "  # 정수, 문자열, 실수를 포함하는 리스트<br>\n",
    "  my_list = [1, \"hello\", 3.14]<br>\n",
    "  print(my_list)  # [1, 'hello', 3.14]<br>\n",
    "\n",
    "</blockquote>\n",
    "\n",
    "* 리스트는 삽입된 순서를 유지하며, 인덱스를 사용하여 각 항목에 접근할 수 있습니다.\n",
    "* 리스트는 값을 추가, 제거, 수정할 수 있습니다.\n",
    "* 문자열과 동일한 방법으로 인덱싱과 슬라이싱을 사용할 수 있습니다.\n",
    "* 리스트는 다양한 내장 메서드를 제공합니다.\n",
    "\n",
    "<blockquote>\n",
    "my_list = [10, 20, 30, 40, 50]<br>\n",
    "\n",
    "* append(item): 요소를 리스트의 끝에 추가<br>\n",
    "![image.png](attachment:b67caf35-ce61-4f4a-bcac-6c6ab5a46344.png)\n",
    "    \n",
    "* extend(iterable): 다른 리스트나 반복 가능한 객체를 확장<br>\n",
    "![image.png](attachment:bbc2ea1f-8c01-4efb-812c-fc22a3cea127.png)\n",
    "\n",
    "* insert(index, item): 특정 위치에 요소를 삽입<br>\n",
    "![image.png](attachment:9db88831-2d6c-4b30-9ffd-af7b0d9d02a5.png)\n",
    "\n",
    "* remove(item): 특정 요소를 제거<br>\n",
    "![image.png](attachment:17d19f96-1209-43f7-9326-5c394427a15d.png)\n",
    "\n",
    "* pop(index): 특정 위치의 요소를 제거하고 반환<br>\n",
    "![image.png](attachment:4202809e-5612-433c-891c-784a947799ba.png)\n",
    "\n",
    "* sort(): 리스트를 정렬 (오름차순이 기본값)<br>\n",
    "![image.png](attachment:f66ad9cf-bd20-4e0a-b5fe-f4f85cd44aec.png)\n",
    "\n",
    "* reverse(): 리스트를 뒤집음<br>\n",
    "![image.png](attachment:62544e81-6847-4ccf-b2c2-31de485f03e2.png)\n",
    "\n",
    "</blockquote>\n",
    "\n",
    "* 리스트의 각 요소를 순회하며 작업을 수행할 수 있습니다. ___60번 예제에서 확인하겠습니다.___\n",
    "\n",
    "&nbsp;&nbsp;&nbsp;&nbsp;___for item in my_list:\"___ <br>\n",
    "&nbsp;&nbsp;&nbsp;&nbsp;___&nbsp;&nbsp;&nbsp;&nbsp;print(item)\"___ <br>\n",
    "\n",
    "* 리스트 안에 리스트를 포함할 수 있습니다. ___62번 예제에서 확인하겠습니다.___\n",
    "\n",
    "&nbsp;&nbsp;&nbsp;&nbsp;___nested_list = [[1, 2], [3, 4], [5, 6]]___ <br>\n",
    "&nbsp;&nbsp;&nbsp;&nbsp;___print(nested_list[1])___  # [3, 4] <br>\n",
    "&nbsp;&nbsp;&nbsp;&nbsp;___print(nested_list[1][0])___  # 3 <br>\n"
   ]
  },
  {
   "cell_type": "code",
   "execution_count": null,
   "id": "f767f6db-9bbd-46a2-9c91-291726758c39",
   "metadata": {},
   "outputs": [],
   "source": [
    "# 47. 비어있는 리스트를 만듭니다. lang이라는 변수에 담습니다. ([])\n",
    "lang = []"
   ]
  },
  {
   "cell_type": "code",
   "execution_count": null,
   "id": "a27d16e6-908c-4b72-b884-943ca561c284",
   "metadata": {},
   "outputs": [],
   "source": [
    "# 48. python, java, c를 원소에 추가한 다음 (append), 리스트를 출력합니다.\n",
    "lang.append(\"python\")\n",
    "lang.append(\"java\")\n",
    "lang.append(\"C\")\n",
    "lang"
   ]
  },
  {
   "cell_type": "code",
   "execution_count": null,
   "id": "c915d106-1396-48db-8477-4199d8c0edba",
   "metadata": {},
   "outputs": [],
   "source": [
    "# 49. lang 이라는 변수에 담겨있는 첫 번째 값을 인덱싱을 통해 가져옵니다.\n",
    "lang[0]"
   ]
  },
  {
   "cell_type": "code",
   "execution_count": null,
   "id": "2a8881dc-21b2-420c-82e9-8e29befab1bd",
   "metadata": {},
   "outputs": [],
   "source": [
    "# 50. 1번 인덱스를 가져옵니다.\n",
    "lang[1]"
   ]
  },
  {
   "cell_type": "code",
   "execution_count": null,
   "id": "631f74db-7130-433a-a442-305d1f8b8db2",
   "metadata": {},
   "outputs": [],
   "source": [
    "# 51. 마지막 인덱스를 가져옵니다. (-1)\n",
    "lang[-1]"
   ]
  },
  {
   "cell_type": "code",
   "execution_count": null,
   "id": "5c620c29-578b-40a5-92ed-61ce3a9e2390",
   "metadata": {},
   "outputs": [],
   "source": [
    "# 52. 다음 문자열을 address에 저장하세요\n",
    "\"   경기도 성남시 분당구 불정로 6 NAVER 그린팩토리 16층   \"\n",
    "address = \"   경기도 성남시 분당구 불정로 6 NAVER 그린팩토리 16층   \""
   ]
  },
  {
   "cell_type": "code",
   "execution_count": null,
   "id": "7377cee0-e0c5-41bd-b6b4-27fccae0c020",
   "metadata": {},
   "outputs": [],
   "source": [
    "# 53. address에 저장된 문자열을 공백으로 분리해서 address_list라는 이름의 list에 저장하세요\n",
    "address_list = address.split()\n",
    "address_list"
   ]
  },
  {
   "cell_type": "code",
   "execution_count": null,
   "id": "080f863a-6aae-496b-9c0d-1a78a60d47ea",
   "metadata": {},
   "outputs": [],
   "source": [
    "# 54. address_list에서 인덱싱으로 \"분당구\"를 자져와 gu라는 문자열 변수에 저장하세요\n",
    "gu = address_list[2]\n",
    "gu"
   ]
  },
  {
   "cell_type": "code",
   "execution_count": null,
   "id": "ef0a016d-e91a-4242-a8b9-d93576ddbfb9",
   "metadata": {},
   "outputs": [],
   "source": [
    "# 55. address_list에서 인덱싱으로 \"불정로\"를 가져와 street이라는 문자열 변수에 저장하세요\n",
    "street = address_list[3]\n",
    "street"
   ]
  },
  {
   "cell_type": "code",
   "execution_count": null,
   "id": "ba7711db-17a0-48c8-9ddd-061a1d90f0d5",
   "metadata": {},
   "outputs": [],
   "source": [
    "# 56. address_list에서 원소의 마지막을 가져옵니다.\n",
    "address_list[-1]"
   ]
  },
  {
   "cell_type": "code",
   "execution_count": null,
   "id": "10892112-bb7c-4959-940f-8e56af451488",
   "metadata": {},
   "outputs": [],
   "source": [
    "# 57. address_list를 원래의 문자열로 합쳐서 address2에 저장해 주세요.\n",
    "# \" \".join(리스트)를 사용하면 리스트를 공백 문자열을 연결할 수 있습니다. \" \", \"_\", \"-\"등으로 연결할 수 있습니다.\n",
    "address2 = \",\".join(address_list)\n",
    "address2"
   ]
  },
  {
   "cell_type": "code",
   "execution_count": null,
   "id": "8f558da3-af6f-4c06-8741-ec6c6e818276",
   "metadata": {},
   "outputs": [],
   "source": [
    "# 58. in이라는 키워드를 이용하여 \"분당구\"가 address_list에 포함되는지 확인해 보세요\n",
    "\n",
    "# in 키워드 사용법 : substring in list\n",
    "# substring - 검색하려는 부분 문자열\n",
    "# list - 검색 대상이 되는 list\n",
    "\"분당구\" in address_list"
   ]
  },
  {
   "cell_type": "code",
   "execution_count": null,
   "id": "643f002b-0ccf-4250-b513-ee13ce004d24",
   "metadata": {},
   "outputs": [],
   "source": [
    "# 59. in이라는 키워드를 이용하여 \"경기\"가 address_list에 포함되는지 확인해 보세요\n",
    "\n",
    "# list는 인덱싱된 문자열이 정확하게 일치해야 True를 리턴합니다.\n",
    "# list에 일부 문자열이 포함되면 True를 리턴하도록 코드를 수정해보세요.(list를 문자열로 변경해서 in키워드로 확인)\n",
    "\n",
    "strAddress = \"_\".join(address_list)\n",
    "\"경기\" in strAddress"
   ]
  },
  {
   "cell_type": "code",
   "execution_count": null,
   "id": "9c4c8e01-d5c4-4513-8473-cbe1d993c5aa",
   "metadata": {},
   "outputs": [],
   "source": [
    "# 60. 리스트의 값을 순회하기 : for와 in\n",
    "test_list = [10,20,30,40,50]\n",
    "for number in test_list:\n",
    "    print(number)"
   ]
  },
  {
   "cell_type": "markdown",
   "id": "aacc22e3-e539-4fff-bfbb-8dc149902fa6",
   "metadata": {},
   "source": [
    "#### #60. 코드 설명!\n",
    "* for는 반복문을 생성하는 키워드입니다.\n",
    "* number는 루프를 실행할 때마다 리스트의 각 요소를 담는 변수입니다.\n",
    "* in 키워드는 test_list의 요소를 하나씩 접근하도록 합니다.\n",
    "* for 루프는 test_list를 자동으로 이터레이터로 변환합니다.\n",
    "* 이터레이터(iterator)는 데이터를 한 번에 하나씩 순차적으로 접근할 수 있는 객체를 말합니다.\n",
    "* 루프는 test_list의 요소 수만큼 반복됩니다. 여기서는 5번 반복되었습니다.\n",
    "<br><br>\n",
    "* print(number)는 number 변수에 저장된 값을 출력합니다.\n",
    "* number는 루프를 실행할 때마다 리스트의 다음 요소를 가져옵니다.\n",
    "* 이터레이터에 의해 리스트의 모든 요소가 순서대로 출력될 때까지 반복됩니다."
   ]
  },
  {
   "cell_type": "code",
   "execution_count": null,
   "id": "3891d672-642a-4b40-9ac6-b5e22d055a00",
   "metadata": {},
   "outputs": [],
   "source": [
    "# 61. [연습문제] my_numbers 리스트에 있는 숫자들의 합을 my_sum에 저장되도록 ???를 수정하세요\n",
    "my_numbers = [43, 2, 76, 28, 193, 12]\n",
    "my_sum = 0\n",
    "for number in my_numbers:\n",
    "    ???\n",
    "\n",
    "print(my_sum)"
   ]
  },
  {
   "cell_type": "code",
   "execution_count": null,
   "id": "a5871297-8a65-4bad-a2fb-c2996fd29a84",
   "metadata": {},
   "outputs": [],
   "source": [
    "#62. 리스트 안에 서로 다른 데이터 타입을 포함할 수 있습니다.\n",
    "nested_list = [[1, 2], [3, 4], [5, 6]]\n",
    "print(nested_list[1])\n",
    "print(nested_list[1][0])"
   ]
  },
  {
   "cell_type": "code",
   "execution_count": null,
   "id": "49d6747c-0a08-4c62-b88f-32d07cf1045d",
   "metadata": {},
   "outputs": [],
   "source": [
    "my_list = [10, 20, 30, 40, \"hello world\", ['가', '나', '다', ['a', 'b', 'c']]]\n",
    "\n",
    "# 63. [연습문제] 10이 출력되도록 ???를 수정하세요.\n",
    "print(???)"
   ]
  },
  {
   "cell_type": "code",
   "execution_count": null,
   "id": "f6f7f4d9-d7ea-4f0c-aedc-d30435703292",
   "metadata": {},
   "outputs": [],
   "source": [
    "# 64. [연습문제] '가' 가 출력되도록 ???를 수정하세요.\n",
    "print(???)"
   ]
  },
  {
   "cell_type": "code",
   "execution_count": null,
   "id": "beb94f42-7652-4022-a98d-5b23c0c50ae9",
   "metadata": {},
   "outputs": [],
   "source": [
    "#65. [연습문제] ['a', 'b', 'c']가 출력되도록 ???를 수정하세요.\n",
    "print(???)"
   ]
  },
  {
   "cell_type": "code",
   "execution_count": null,
   "id": "b652f781-fd2c-4a1f-820f-288b922cdc26",
   "metadata": {},
   "outputs": [],
   "source": [
    "#66. [연습문제] “c”가 출력되도록 ???를 수정하세요.\n",
    "print(???)"
   ]
  },
  {
   "cell_type": "markdown",
   "id": "980a52b4-0b17-4746-874e-9a8209070493",
   "metadata": {},
   "source": [
    "#### ___② 튜플___\n",
    "* 튜플은 소괄호 ``()``를 사용하여 생성하며, 요소는 쉼표로 구분됩니다.\n",
    "* 튜플을 생성할 때 괄호 없이 쉼표만 사용해도 됩니다.\n",
    "* 요소가 1개인 튜플을 생성할 경우 쉼표가 반드시 필요합니다.\n",
    "* 튜플은 생성 후 내용을 변경할 수 없습니다.\n",
    "* 리스트와 동일하게 서로 다른 데이터 타입을 포함할 수 있습니다.\n",
    "* 튜플 안에 튜플을 포함할 수 있습니다.\n",
    "* 튜플은 리스트처럼 인덱스를 통해 요소를 참조하거나 슬라이싱할 수 있습니다.\n",
    "* 튜플은 count와 index라는 메서드를 제공합니다. "
   ]
  },
  {
   "cell_type": "code",
   "execution_count": null,
   "id": "7ae4b0eb-4bf0-4cf3-bfaf-f648f87b851d",
   "metadata": {},
   "outputs": [],
   "source": [
    "# 67. 1,2,3을 데이터로 가지는 튜플을 생성하세요\n",
    "my_tuple = (1,2,3)\n",
    "print(my_tuple)"
   ]
  },
  {
   "cell_type": "code",
   "execution_count": null,
   "id": "ed13ffe2-7347-4a0b-8863-ee3cb29682a8",
   "metadata": {},
   "outputs": [],
   "source": [
    "#68. 괄호 없이 튜플을 만들 수 있지만, 요소가 1개인 경우 주의해야 합니다.\n",
    "my_tuple = 1,2,3\n",
    "print(my_tuple)\n",
    "\n",
    "single_item = (5,)  # 쉼표가 있어야 튜플로 인식\n",
    "print(type(single_item))  # <class 'tuple'>\n",
    "\n",
    "not_a_tuple = (5)  # 쉼표가 없으면 정수로 인식\n",
    "print(type(not_a_tuple))  # <class 'int'>"
   ]
  },
  {
   "cell_type": "code",
   "execution_count": null,
   "id": "6fcc4323-5896-45ad-aae0-312b5ae80824",
   "metadata": {},
   "outputs": [],
   "source": [
    "#69. 튜플은 생성 후 내용을 변경할 수 없습니다.\n",
    "my_tuple = (1, 2, 3)\n",
    "# my_tuple[0] = 10  # 오류 발생: TypeError"
   ]
  },
  {
   "cell_type": "code",
   "execution_count": null,
   "id": "c8c21f10-9b9f-43f8-8ab2-718232c344cb",
   "metadata": {},
   "outputs": [],
   "source": [
    "# 70. 튜플은 서로 다른 데이터 타입을 포함할 수 있습니다. 튜플안에 튜플을 포함할 수도 있고 리스트도 포함할 수 있습니다.\n",
    "mixed_tuple = ((1, 2), [3, \"abc\"], 3.14, \"hello\")\n",
    "\n",
    "# 71. 튜플은 생성 후 내용을 변경할 수 없다고 했는데, 튜플 안에 포함된 리스트의 내용은 변경할 수 있을까요? \n",
    "# 72. mixed_tuple의 0번 인덱스에 저장된 자료형은 무엇인가요?\n",
    "# 73. mixed_tuple의 1번 인덱스에 저장된 자료형은 무엇인가요?\n",
    "# 74. [연습문제] 그럼 mixed_tuple에 저장된 데이터 3을 100으로 어떻게 변경하면 될까요? 코드를 작성해보세요."
   ]
  },
  {
   "cell_type": "code",
   "execution_count": null,
   "id": "644a879f-e626-4948-873d-99be387dfb8f",
   "metadata": {},
   "outputs": [],
   "source": [
    "# 75. + 연산자를 사용하여 두 튜플을 결합할 수 있습니다.\n",
    "t1 = (1, 2)\n",
    "t2 = (3, 4)\n",
    "result = t1 + t2\n",
    "print(result)  # (1, 2, 3, 4)"
   ]
  },
  {
   "cell_type": "code",
   "execution_count": null,
   "id": "dd54647f-397e-4221-a698-14c2f6d6f0e3",
   "metadata": {},
   "outputs": [],
   "source": [
    "# 76. * 연산자를 사용하여 튜플을 반복합니다.\n",
    "t1 = (1, 2)\n",
    "result = t1 * 3\n",
    "print(result)  # (1, 2, 1, 2, 1, 2)"
   ]
  },
  {
   "cell_type": "code",
   "execution_count": null,
   "id": "1af0ccec-4ddf-4274-8142-e07a487eebe3",
   "metadata": {},
   "outputs": [],
   "source": [
    "# 77. count(item): 특정 값이 튜플에서 몇 번 등장하는지 반환\n",
    "t = (1, 2, 2, 3, 4, 5, 4, 3, 2, 1)\n",
    "print(t.count(2))  # 3"
   ]
  },
  {
   "cell_type": "code",
   "execution_count": null,
   "id": "0b7b71a3-b411-4502-9ea5-ef05eb632170",
   "metadata": {},
   "outputs": [],
   "source": [
    "# 78. index(item): 특정 값이 처음 등장하는 인덱스를 반환\n",
    "print(t.index(3))  # 3"
   ]
  },
  {
   "attachments": {
    "39a757de-e4c2-44ab-8ded-4ad6fe9d90b9.png": {
     "image/png": "[encoded data removed]"
    }
   },
   "cell_type": "markdown",
   "id": "bcfd2ed7-48cc-4cfe-bbcf-edfee3111b74",
   "metadata": {},
   "source": [
    "#### ___③ range___\n",
    "* range함수는 숫자의 연속적인 시퀀스를 생성하는 데 사용되며, 보통 반복문(for 루프)에서 자주 활용됩니다.\n",
    "* range의 기본 구조는 다음과 같습니다.<br>\n",
    "  ![image.png](attachment:39a757de-e4c2-44ab-8ded-4ad6fe9d90b9.png)\n",
    "* 만약 start를 생략하면 범위는 0에서 시작합니다.\n",
    "* stop은 꼭 입력해야 하는 값입니다.\n",
    "* 슬라이스와 마찬가지로 범위의 끝은 stop의 바로 직전값 입니다.\n",
    "* step의 기본값은 1이고, step을 -1로 지정하여 거꾸로 진행할 수도 있습니다."
   ]
  },
  {
   "cell_type": "code",
   "execution_count": null,
   "id": "3b454be1-235b-4519-851c-83be1c8538f6",
   "metadata": {},
   "outputs": [],
   "source": [
    "# 79. 반복문에서 반복하는 횟수를 지정하는데 사용할 수 있습니다.\n",
    "print(\"첫번째 for문\")\n",
    "for i in range(5):\n",
    "    print(i)\n",
    "\n",
    "print(\"두번째 for문\")\n",
    "for i in range(0,5):\n",
    "    print(i)"
   ]
  },
  {
   "cell_type": "code",
   "execution_count": null,
   "id": "363d94e3-9c7e-40f0-b56c-26c7afd7d865",
   "metadata": {},
   "outputs": [],
   "source": [
    "# 80. 특정 범위의 숫자 합산 또는 계산에 사용할 수 있습니다.\n",
    "# sum() 함수는 반복 가능한 객체를 한 번 순회하며 내부적으로 값을 합산합니다.\n",
    "# sum() 함수는 리스트, 튜플, range 등을 입력으로 받을 수 있습니다.\n",
    "\n",
    "print(sum(range(1, 101)))  # 1부터 100까지의 합"
   ]
  },
  {
   "cell_type": "code",
   "execution_count": null,
   "id": "842e468b-98f5-4afd-ab8c-0c2d2b84a511",
   "metadata": {},
   "outputs": [],
   "source": [
    "# 81. 데이터 생성 및 초기화 시 사용할 수 있습니다.\n",
    "# range는 숫자 리스트를 간단히 생성하거나 초기값으로 설정할 때 사용됩니다.\n",
    "my_list = list(range(20)) \n",
    "my_list"
   ]
  },
  {
   "attachments": {
    "01e51e67-f99b-482f-96fa-f386c0636546.png": {
     "image/png": "[encoded data removed]"
    },
    "252251bd-ecdc-4fe2-a2f3-350dd9d4cff7.png": {
     "image/png": "[encoded data removed]"
    },
    "2ab72a9e-332c-4c09-be3c-0ac60ad63652.png": {
     "image/png": "[encoded data removed]"
    },
    "31f71c62-c2c4-4006-b695-d201da50b794.png": {
     "image/png": "[encoded data removed]"
    },
    "5f44b922-2ac8-454d-95a5-8da9fb7d62fd.png": {
     "image/png": "[encoded data removed]"
    },
    "7193c11c-02a4-4be2-9186-d9380b39f921.png": {
     "image/png": "[encoded data removed]"
    },
    "87bfbe7d-27f5-439b-8534-c446cce6228a.png": {
     "image/png": "[encoded data removed]"
    },
    "9605b25f-9be8-4615-b993-d8cec32ec1ce.png": {
     "image/png": "[encoded data removed]"
    },
    "d68089e1-2699-4d7d-9251-05d98990d662.png": {
     "image/png": "[encoded data removed]"
    }
   },
   "cell_type": "markdown",
   "id": "08876e2f-c689-4b61-b8cb-05e7bd12d80c",
   "metadata": {},
   "source": [
    "### __3. 매핑 데이터 타입__\n",
    "#### ___① dict(딕셔너리)___\n",
    "* dict(딕셔너리) : 키(key)와 값(value)의 쌍으로 데이터를 저장하는 데이터 타입\n",
    "* dictionary 구조\n",
    "  * 키(key): 고유해야 하며, 불변(immutable) 데이터 타입이어야 합니다 (예: 문자열, 숫자, 튜플 등)\n",
    "  * 값(value): 변경 가능하며, 어떠한 데이터 타입도 허용됩니다.\n",
    "<br><br>\n",
    "* dictionary 생성 방법\n",
    "  * 리터럴 방식: 중괄호 { }를 사용해 직접 생성.<br>\n",
    "    리터럴 방식이란 값을 직접 코드에 표현하는 방식을 말합니다.\n",
    "  ![image.png](attachment:252251bd-ecdc-4fe2-a2f3-350dd9d4cff7.png)\n",
    "  * dict() 생성자: 키와 값을 전달하여 생성.<br>\n",
    "  ![image.png](attachment:5f44b922-2ac8-454d-95a5-8da9fb7d62fd.png)\n",
    "  * 빈 딕셔너리:<br>\n",
    "  ![image.png](attachment:9605b25f-9be8-4615-b993-d8cec32ec1ce.png)\n",
    "\n",
    "* dictionary 주요 함수\n",
    "  * keys(): 딕셔너리의 모든 키를 반환합니다.<br>\n",
    "    ![image.png](attachment:01e51e67-f99b-482f-96fa-f386c0636546.png)\n",
    "  * values(): 딕셔너리의 모든 값을 반환합니다.<br>\n",
    "    ![image.png](attachment:2ab72a9e-332c-4c09-be3c-0ac60ad63652.png)\n",
    "  * items(): 키와 값을 튜플 형태로 반환합니다.<br>\n",
    "    ![image.png](attachment:31f71c62-c2c4-4006-b695-d201da50b794.png)\n",
    "  * get(key): 특정 키에 해당하는 값을 반환하며, 키가 없을 경우 기본값을 설정할 수 있습니다.<br>\n",
    "    ![image.png](attachment:d68089e1-2699-4d7d-9251-05d98990d662.png)\n",
    "  * update(): 다른 딕셔너리를 병합하여 값을 업데이트합니다.<br>\n",
    "    ![image.png](attachment:7193c11c-02a4-4be2-9186-d9380b39f921.png)\n",
    "  * pop(key): 특정 키의 값을 제거하고 반환합니다.<br>\n",
    "    ![image.png](attachment:87bfbe7d-27f5-439b-8534-c446cce6228a.png)"
   ]
  },
  {
   "cell_type": "code",
   "execution_count": null,
   "id": "fcfbd1a0-21e9-47af-94f8-6ba9c0d0aff3",
   "metadata": {},
   "outputs": [],
   "source": [
    "# 82. 딕셔너리의 값은 키를 사용해 접근할 수 있습니다.\n",
    "person = {\"name\": \"Alice\", \"age\": 25, \"city\": \"New York\"}\n",
    "print(person[\"name\"])  # Alice"
   ]
  },
  {
   "cell_type": "code",
   "execution_count": null,
   "id": "33592863-da03-4501-82a1-d6c9c8190770",
   "metadata": {},
   "outputs": [],
   "source": [
    "#83. 키가 존재하면 값을 수정하고, 존재하지 않으면 새로운 키-값 쌍을 추가합니다.\n",
    "my_dict[\"age\"] = 30  # 값 수정\n",
    "my_dict[\"country\"] = \"USA\"  # 새로운 키-값 추가\n",
    "print(my_dict)  # {'name': 'Alice', 'age': 30, 'city': 'New York', 'country': 'USA'}"
   ]
  },
  {
   "cell_type": "code",
   "execution_count": null,
   "id": "ea17f292-710e-4114-b88f-ff8c5c6e4b87",
   "metadata": {},
   "outputs": [],
   "source": [
    "# 84. 딕셔너리에서 키와 값을 출력하는 방법\n",
    "for key, value in person.items():\n",
    "    print(f\"Key: {key}, Value: {value}\")"
   ]
  },
  {
   "attachments": {
    "164d82e5-afa5-4df2-9b8b-e77b089687c6.png": {
     "image/png": "[encoded data removed]"
    }
   },
   "cell_type": "markdown",
   "id": "a74cd80c-c6e8-4e27-a3de-b33610f7c147",
   "metadata": {},
   "source": [
    "#### #84. 코드 설명!\n",
    "* for는 반복문을 생성하는 키워드입니다.\n",
    "* in 키워드는 person.items()의 요소를 하나씩 접근하도록 합니다.\n",
    "* person.items()은 딕셔너리의 키와 값을(key-value pairs) 튜플 형태로 반환합니다.\n",
    "* for key, value in\n",
    "  * 반복문에서 person.items()의 각 튜플을 순회합니다.\n",
    "  * 튜플은 두 개의 값(키와 값)으로 구성되어 있으므로, key와 value라는 두 변수에 동시에 할당됩니다.\n",
    "* print(f\"Key: {key}, Value: {value}\")\n",
    "  * 문자열에 변수를 삽입하는 방법으로 f-string 이라고 합니다.\n",
    "  * f-string은 문자열 앞에 f 또는 F를 붙이고, 중괄호 {}를 사용하여 변수를 삽입합니다.<br>\n",
    "    ![image.png](attachment:164d82e5-afa5-4df2-9b8b-e77b089687c6.png)"
   ]
  },
  {
   "cell_type": "code",
   "execution_count": null,
   "id": "0c6394f5-4dea-4f25-90d2-c8a7d1475f87",
   "metadata": {},
   "outputs": [],
   "source": [
    "my_dict = {'이름': '홍길동', '나이': 20, '취미': ['기타', '축구', '영화'], '성적':{'언어':80, '수리':40, '외국어':30}}\n",
    "\n",
    "# 85. [연습문제] 이름을 프린트 해보세요\n",
    "# 86. [연습문제] '축구'를 프린트 해보세요\n",
    "# 87. [연습문제] ‘성적’중에서 ‘언어’ 점수를 프린트 해보세요"
   ]
  },
  {
   "cell_type": "markdown",
   "id": "eefffe5f-3e58-4252-80ca-0abece8ad52c",
   "metadata": {},
   "source": [
    "## ___(3) 형변환___\n",
    "### ___1. 명시적 형변환 : 사용자가 직접 함수를 호출하여 자료형을 변환하는 방식___\n",
    "\n",
    "* int(): 정수형으로 변환\n",
    "* float(): 실수형으로 변환\n",
    "* str(): 문자열로 변환\n",
    "* list(): 리스트로 변환\n",
    "* tuple(): 튜플로 변환\n",
    "* dict(): 딕셔너리로 변환\n",
    "* set(): 집합으로 변환"
   ]
  },
  {
   "cell_type": "code",
   "execution_count": null,
   "id": "fd49a782-65db-4a35-a0f2-51b70b2835a6",
   "metadata": {},
   "outputs": [],
   "source": [
    "# 88. 문자열을 정수로 변환\n",
    "num_str = \"123\"\n",
    "num_int = int(num_str)  # 123 (정수형)\n",
    "print(type(num_int))  # <class 'int'>\n",
    "\n",
    "# 89. 정수를 문자열로 변환\n",
    "num = 456\n",
    "num_str = str(num)  # \"456\" (문자열)\n",
    "print(type(num_str))  # <class 'str'>"
   ]
  },
  {
   "cell_type": "markdown",
   "id": "b1596d0a-3acd-4895-9a1f-f019343e5d79",
   "metadata": {},
   "source": [
    "### ___2. 암시적 형변환 : 파이썬이 자동으로 형변환을 수행하는 경우___"
   ]
  },
  {
   "cell_type": "code",
   "execution_count": null,
   "id": "895addbf-1855-47ff-b1e2-0c6f6c7058ec",
   "metadata": {},
   "outputs": [],
   "source": [
    "# 90. 정수와 실수의 연산\n",
    "num_int = 10  # 정수\n",
    "num_float = 5.5  # 실수\n",
    "\n",
    "result = num_int + num_float  # 정수와 실수 연산\n",
    "print(result)  # 15.5 (실수)\n",
    "print(type(result))  # <class 'float'>"
   ]
  },
  {
   "cell_type": "markdown",
   "id": "1ee92f19-e80b-477f-86e2-fec7ee9fac0e",
   "metadata": {},
   "source": [
    "### __3. 주의사항__\n",
    "* 변환 불가능한 값 변환 시 오류 발생\n",
    "* 데이터 손실 사능성 : 예를 들어 float을 int로 변환하면 소수점 이하 값이 제거된다."
   ]
  },
  {
   "cell_type": "markdown",
   "id": "3161f4a5-edcb-483a-8c38-12fe76e7968a",
   "metadata": {},
   "source": [
    "## ___(4) 제어문___\n",
    "* 파이썬에서 조건문과 반복문을 사용할 때 Tab키 또는 4번의 space bar키로 Indent를 맞춘다.\n",
    "### __1. 조건문__\n",
    "* 파이썬 조건문은 if, elif, else 키워드를 사용하여 작성합니다  \n",
    "* 조건문의 주요 키워드\n",
    "  * if\n",
    "    * 조건을 평가하고 참(True)일 경우 코드를 실행합니다.\n",
    "    * 조건은 비교 연산자, 논리 연산자, 값 존재 여부를 활용하여 작성할 수 있습니다.\n",
    "  * elif(선택사항)\n",
    "    * 여러 조건이 필요할 때 사용합니다. if 다음에 이어서 작성할 수 있습니다.\n",
    "  * else(성택사항)\n",
    "    * 모든 조건이 거짓일 경우 실행됩니다."
   ]
  },
  {
   "cell_type": "code",
   "execution_count": null,
   "id": "600f7971-6835-400b-be0d-eacd8cb5e72d",
   "metadata": {},
   "outputs": [],
   "source": [
    "# 91. 조건문에서 and, or, not 연산자를 사용하여 조건을 조합할 수 있습니다.\n",
    "x = 15\n",
    "if x > 0 and x < 20:  # 둘 다 참이어야 실행\n",
    "    print(\"x는 0과 20 사이의 숫자입니다.\")"
   ]
  },
  {
   "cell_type": "code",
   "execution_count": null,
   "id": "2ad13b65-e246-4e19-9ebb-d8452d22e773",
   "metadata": {},
   "outputs": [],
   "source": [
    "# 92. 조건문에서 문자열이 같은지 비교\n",
    "fruits = [\"apple\", \"banana\", \"cherry\"]\n",
    "if \"apple\" == fruits[0]:\n",
    "    print(\"apple의 index값은 0입니다.\")\n",
    "elif \"apple\" == fruits[1]:\n",
    "    print(\"apple의 index값은 1입니다.\")\n",
    "elif \"apple\" == fruits[2]:\n",
    "    print(\"apple의 index값은 2입니다.\")\n",
    "else:\n",
    "    print(\"apple은 fruits에 없습니다.\")"
   ]
  },
  {
   "cell_type": "code",
   "execution_count": null,
   "id": "27fd73d7-e723-4c35-a5a2-1c8331f59020",
   "metadata": {},
   "outputs": [],
   "source": [
    "# 93. 조건문을 중첩하여 작성할 수 있습니다.\n",
    "x = 10\n",
    "if x > 0:\n",
    "    if x % 2 == 0:\n",
    "        print(\"x는 짝수입니다.\")\n",
    "    else:\n",
    "        print(\"x는 홀수입니다.\")\n"
   ]
  },
  {
   "cell_type": "code",
   "execution_count": null,
   "id": "85a21d5a-f8f4-42cb-95f2-c236acc2272f",
   "metadata": {},
   "outputs": [],
   "source": [
    "# 94. 조건문을 작성하고 나중에 채우고 싶다면 pass를 사용합니다.\n",
    "x = 10\n",
    "if x > 0:\n",
    "    pass  # 아무 작업도 하지 않음\n",
    "else:\n",
    "    print(\"x는 음수입니다.\")"
   ]
  },
  {
   "cell_type": "code",
   "execution_count": null,
   "id": "bf1f9031-10b1-4861-843b-3f552d3f4598",
   "metadata": {},
   "outputs": [],
   "source": [
    "# 95. 조건문에서 특정 값이 리스트, 딕셔너리, 집합 등에 존재하는지 확인할 수 있습니다.\n",
    "fruits = [\"apple\", \"banana\", \"cherry\"]\n",
    "if \"apple\" in fruits:  # \"apple\"이 리스트에 포함될 경우 실행\n",
    "    print(\"사과가 있습니다.\")"
   ]
  },
  {
   "attachments": {
    "41668412-0e07-4971-8f46-0710df54c5c0.png": {
     "image/png": "[encoded data removed]"
    }
   },
   "cell_type": "markdown",
   "id": "c935ac00-5e03-459e-86e7-6ff216708046",
   "metadata": {},
   "source": [
    "### __2. 반복문__\n",
    "#### ___① for 반복문___\n",
    "* for 반복문은 반복 가능한 객체(iterable)(예: 리스트, 문자열, 튜플, 딕셔너리, range)의 요소를 순회하며 작업을 수행할 때 사용됩니다.\n",
    "* 기본 구조<br>\n",
    "  ![image.png](attachment:41668412-0e07-4971-8f46-0710df54c5c0.png)"
   ]
  },
  {
   "cell_type": "code",
   "execution_count": null,
   "id": "189a359d-6033-4c69-bb37-a45d6602ae5f",
   "metadata": {},
   "outputs": [],
   "source": [
    "# 96. 리스트의 값을 모두 출력하는 for문\n",
    "numbers = [10, 20, 30]\n",
    "for num in numbers:\n",
    "    print(num)"
   ]
  },
  {
   "cell_type": "code",
   "execution_count": null,
   "id": "76bf6fda-2e2c-464d-963b-5667776161b5",
   "metadata": {},
   "outputs": [],
   "source": [
    "# 97. 문자열의 글자를 모두 출력하는 for문\n",
    "text = \"hello\"\n",
    "for char in text:\n",
    "    print(char)"
   ]
  },
  {
   "cell_type": "code",
   "execution_count": null,
   "id": "86063908-ac42-4911-bb1a-224fbf9fb0bb",
   "metadata": {},
   "outputs": [],
   "source": [
    "# 98. 임의의 회수만큼 반복하는 for문\n",
    "for i in range(10):\n",
    "    print(i)"
   ]
  },
  {
   "attachments": {
    "379f3650-28ef-48a4-a61e-d7571c84e48f.png": {
     "image/png": "[encoded data removed]"
    }
   },
   "cell_type": "markdown",
   "id": "96f6815a-da76-4819-9bb6-e66794cd0554",
   "metadata": {},
   "source": [
    "#### ___② while 반복문___\n",
    "* while 반복문은 ___```조건이 참(True)인 동안```___ 코드를 반복해서 실행합니다.\n",
    "* 기본 구조<br>\n",
    "  ![image.png](attachment:379f3650-28ef-48a4-a61e-d7571c84e48f.png)"
   ]
  },
  {
   "cell_type": "code",
   "execution_count": null,
   "id": "a5e92939-c2c2-46df-869e-dbc825a4f77c",
   "metadata": {},
   "outputs": [],
   "source": [
    "# 99. 임의의 횟수만큼 반복하는 while문\n",
    "# count값이 5보다 작으면, 반복한다.\n",
    "count = 0\n",
    "while count < 5:\n",
    "    print(count)\n",
    "    count += 1"
   ]
  },
  {
   "cell_type": "markdown",
   "id": "18e7195b-a8cf-4a3b-a448-941a757871dd",
   "metadata": {},
   "source": [
    "### __3. 반복제어문__\n",
    "* 반복문의 흐름을 제어하기 위해 break, continue, pass와 같은 제어문을 사용할 수 있습니다."
   ]
  },
  {
   "cell_type": "code",
   "execution_count": null,
   "id": "8e30deec-edfc-4c8d-b380-07d24ea3558b",
   "metadata": {},
   "outputs": [],
   "source": [
    "# 100. break: 반복문을 즉시 종료합니다.\n",
    "for i in range(10):\n",
    "    if i == 5:\n",
    "        break\n",
    "    print(i)"
   ]
  },
  {
   "cell_type": "code",
   "execution_count": null,
   "id": "d6e5d419-fbed-43e5-b7c5-f095678788ea",
   "metadata": {},
   "outputs": [],
   "source": [
    "# 101.현재 반복을 건너뛰고 다음 반복으로 이동합니다.\n",
    "for i in range(10):\n",
    "    if i % 2:\n",
    "        continue\n",
    "    print(i)"
   ]
  },
  {
   "cell_type": "code",
   "execution_count": null,
   "id": "3e83f183-9952-45e0-bc6a-8734c0cb85ff",
   "metadata": {},
   "outputs": [],
   "source": [
    "# 102. 반복문 안에 다른 반복문을 작성할 수 있습니다.\n",
    "for i in range(3):\n",
    "    for j in range(2):\n",
    "        print(f\"i: {i}, j: {j}\")"
   ]
  },
  {
   "cell_type": "code",
   "execution_count": null,
   "id": "73dcf5a1-3c59-465f-85b0-44e20cc0d643",
   "metadata": {},
   "outputs": [],
   "source": [
    "# 103. 딕셔너리 순회\n",
    "my_dict = {\"a\": 1, \"b\": 2}\n",
    "for key, value in my_dict.items():\n",
    "    print(f\"{key}: {value}\")"
   ]
  },
  {
   "cell_type": "code",
   "execution_count": null,
   "id": "471cccf1-e79f-484d-a165-c534febb0dcd",
   "metadata": {},
   "outputs": [],
   "source": [
    "# 104. enumerate를 사용하면 인덱스 번화와 원소를 같이 가져올 수 있습니다.\n",
    "lang = [\"python\", \"java\", \"c++\"]\n",
    "for i, val in enumerate(lang):\n",
    "    print(i, val)"
   ]
  },
  {
   "cell_type": "code",
   "execution_count": null,
   "id": "6cac4faf-b2e8-4f96-bff2-2ed881b8f6af",
   "metadata": {},
   "outputs": [],
   "source": [
    "# 105. enumerate는 2차원 리스트나 튜플의 각 행과 열을 처리할 때 유용합니다.\n",
    "matrix = [[1, 2, 3], [4, 5, 6], [7, 8, 9]]\n",
    "for row_index, row in enumerate(matrix):\n",
    "    for col_index, value in enumerate(row):\n",
    "        print(f\"Row {row_index}, Column {col_index} -> {value}\")"
   ]
  },
  {
   "cell_type": "markdown",
   "id": "af3e1a4f-0d76-4f55-a178-2036076050eb",
   "metadata": {},
   "source": [
    "## ___(5) 연습문제___"
   ]
  },
  {
   "cell_type": "code",
   "execution_count": null,
   "id": "a43b9517-400e-41f0-b91b-15a278801f1d",
   "metadata": {},
   "outputs": [],
   "source": [
    "# 106. 다음 코드의 결과를 예측해 보세요.\n",
    "a = 1\n",
    "a = a + 1\n",
    "print(a)"
   ]
  },
  {
   "cell_type": "code",
   "execution_count": null,
   "id": "cdfd7410-88e7-4730-bb7a-4705be07da1e",
   "metadata": {},
   "outputs": [],
   "source": [
    "# 107. 다음 코드의 결과를 예측해 보세요.\n",
    "a = '1'\n",
    "b = '2'\n",
    "print(a+b)"
   ]
  },
  {
   "cell_type": "code",
   "execution_count": null,
   "id": "6480b58f-033f-4d86-b4f2-11f19101142e",
   "metadata": {},
   "outputs": [],
   "source": [
    "# 108. 다음 코드의 결과로 3이 출력되도록 코드를 수정하세요.\n",
    "a = '1'\n",
    "b = '2'\n",
    "# 코드를 작성\n",
    "# 코드를 작성\n",
    "print(a+b)"
   ]
  },
  {
   "cell_type": "code",
   "execution_count": null,
   "id": "80b6eecc-f9e5-4b89-832c-dfc8e4c89a27",
   "metadata": {},
   "outputs": [],
   "source": [
    "# 109. e가 출력되도록 ???를 수정하세요.\n",
    "my_str = 'hello'\n",
    "print(my_str[???])"
   ]
  },
  {
   "cell_type": "code",
   "execution_count": null,
   "id": "e5e2b9b2-e57e-4304-b64c-0952e469ab62",
   "metadata": {},
   "outputs": [],
   "source": [
    "# 110. 반복문과 조건문을 이용하여 lang에 저장된 값이 python일 때는 그대로 출력하고 python이 아닐 때는 \"기타\" 라고 출력합니다.\n",
    "lang = [\"python\", \"java\", \"c++\"]    "
   ]
  },
  {
   "attachments": {
    "dc67b414-b1ea-4028-a5d4-8bd7b97f07fe.png": {
     "image/png": "[encoded data removed]"
    }
   },
   "cell_type": "markdown",
   "id": "ee30e882-1007-4bfb-a360-d9ff3b7c250d",
   "metadata": {},
   "source": [
    "![image.png](attachment:dc67b414-b1ea-4028-a5d4-8bd7b97f07fe.png)"
   ]
  },
  {
   "cell_type": "code",
   "execution_count": null,
   "id": "bdb27797-9943-454d-bb95-2774c81de83a",
   "metadata": {},
   "outputs": [],
   "source": [
    "# 111. for문과 if문을 함께 사용하여 1부터 10까지 홀수만 출력해보세요.\n",
    "# for문과 if문 사용 시 문장의 끝에 :를 잊지 않도록 주의하세요"
   ]
  },
  {
   "cell_type": "code",
   "execution_count": null,
   "id": "a1fb030d-be03-4935-94f7-e187af2f3085",
   "metadata": {},
   "outputs": [],
   "source": [
    "# 112. 20살 이상이면 성인입니다 를 프린트. 아니면 청소년입니다. 를 프린트 해주세요\n",
    "# 마지막에 성인의 수와 청소년의 수가 몇명인지 프린트해주세요. \"성인은 2명 청소년은 3명입니다\"\n",
    "ages = [20, 30, 15, 5, 10]"
   ]
  },
  {
   "cell_type": "code",
   "execution_count": null,
   "id": "e25e2be8-54a6-4331-acc3-fe29a67b7ec0",
   "metadata": {},
   "outputs": [],
   "source": [
    "# 113. 1부터 100까지의 숫자가 입력된 리스트를 만들고 리스트를 순회하면서 \n",
    "# 3,6,9,13,16,19 등등 3,6,9가 나오면 \"짝\"을 그렇지 않으면 숫자를 출력해보세요"
   ]
  },
  {
   "cell_type": "code",
   "execution_count": null,
   "id": "acd2a78f-d562-4568-bb21-76811c6cf191",
   "metadata": {},
   "outputs": [],
   "source": [
    "# 112. 아래 예제를 반복문을 이용하여 index값을 찾도록 수정해보세요\n",
    "'''\n",
    "fruits = [\"apple\", \"banana\", \"cherry\"]\n",
    "if \"apple\" == fruits[0]:\n",
    "    print(\"apple의 index값은 0입니다.\")\n",
    "elif \"apple\" == fruits[1]:\n",
    "    print(\"apple의 index값은 1입니다.\")\n",
    "elif \"apple\" == fruits[2]:\n",
    "    print(\"apple의 index값은 2입니다.\")\n",
    "else:\n",
    "    print(\"apple은 fruits에 없습니다.\")\n",
    "'''\n",
    "for idx,fruit in enumerate(fruits):\n",
    "    if fruit==\"apple\":\n",
    "        print(f\"apple의 index값은 {idx}입니다.\")"
   ]
  },
  {
   "cell_type": "code",
   "execution_count": null,
   "id": "c910b345-c68f-4aaa-9f2b-a04cb2d4ebe4",
   "metadata": {
    "scrolled": true
   },
   "outputs": [],
   "source": [
    "# 113. 다음 모양의 삼각형을 출력해 보세요\n",
    "print(\"\\n삼각형 출력1\")"
   ]
  },
  {
   "attachments": {
    "b75b35f1-2eab-4355-9de2-8850cbac5849.png": {
     "image/png": "[encoded data removed]"
    }
   },
   "cell_type": "markdown",
   "id": "6b702698-5b21-436d-8122-7b3491e18859",
   "metadata": {},
   "source": [
    "![image.png](attachment:b75b35f1-2eab-4355-9de2-8850cbac5849.png)"
   ]
  },
  {
   "cell_type": "code",
   "execution_count": null,
   "id": "c22f73e3-efb8-4118-9800-44a2de9c3f77",
   "metadata": {},
   "outputs": [],
   "source": [
    "# 114. 다음 모양의 삼각형을 출력해 보세요\n",
    "print(\"\\n삼각형 출력2\")"
   ]
  },
  {
   "attachments": {
    "ce8c4e10-e15b-462d-863f-ce866e741d91.png": {
     "image/png": "[encoded data removed]"
    }
   },
   "cell_type": "markdown",
   "id": "19c5367a-84f4-49a5-ad81-daa0c89ae054",
   "metadata": {},
   "source": [
    "![image.png](attachment:ce8c4e10-e15b-462d-863f-ce866e741d91.png)"
   ]
  },
  {
   "cell_type": "code",
   "execution_count": null,
   "id": "31216627-ff1a-4c88-b725-07f97eaf464c",
   "metadata": {},
   "outputs": [],
   "source": [
    "# 115. 다음 모양의 삼각형을 출력해 보세요\n",
    "print(\"\\n삼각형 출력3\")"
   ]
  },
  {
   "attachments": {
    "06d5e1d1-8469-48b4-aa57-e47bd70bb1b6.png": {
     "image/png": "[encoded data removed]"
    }
   },
   "cell_type": "markdown",
   "id": "cab30e50-10db-4cc7-99b8-2bfc062eca67",
   "metadata": {},
   "source": [
    "![image.png](attachment:06d5e1d1-8469-48b4-aa57-e47bd70bb1b6.png)"
   ]
  },
  {
   "cell_type": "code",
   "execution_count": null,
   "id": "b3f0e245-ed33-4205-9fdb-8e101519e3f8",
   "metadata": {},
   "outputs": [],
   "source": [
    "# 116. 사용자에게 피자 메뉴을 소개하는 코드를 작성하세요\n",
    "pizza_menu = [ {\"name\": \"마르게리타\", \"prices\": {\"small\": 8.99, \"medium\": 11.99, \"large\": 14.99}}, {\"name\": \"페퍼로니\", \"prices\": {\"small\": 10.99, \"medium\": 13.99, \"large\": 16.99}}, {\"name\": \"채소\", \"prices\": {\"small\": 9.99, \"medium\": 12.99, \"large\": 15.99}}, {\"name\": \"하와이안\", \"prices\": {\"small\": 11.99, \"medium\": 14.99, \"large\": 17.99}}, {\"name\": \"커스텀\", \"prices\": {\"small\": 12.99, \"medium\": 15.99, \"large\": 18.99}} ]"
   ]
  },
  {
   "attachments": {
    "5d5372e7-8af4-4782-a9fe-310455fc18cf.png": {
     "image/png": "[encoded data removed]"
    }
   },
   "cell_type": "markdown",
   "id": "d836af54-5c24-42c4-86c9-9e3fbed01854",
   "metadata": {
    "jp-MarkdownHeadingCollapsed": true
   },
   "source": [
    "* 출력 예시는 다음과 같습니다.<br>\n",
    "![image.png](attachment:5d5372e7-8af4-4782-a9fe-310455fc18cf.png)"
   ]
  },
  {
   "cell_type": "code",
   "execution_count": null,
   "id": "2262d6ec-aa0f-466d-96ab-38b15cb5b24d",
   "metadata": {},
   "outputs": [],
   "source": [
    "# 117. 사이즈별 가격을 소개해주는 코드를 작성해주세요\n",
    "pizza_menu = [ {\"name\": \"마르게리타\", \"prices\": {\"small\": 8.99, \"medium\": 11.99, \"large\": 14.99}}, {\"name\": \"페퍼로니\", \"prices\": {\"small\": 10.99, \"medium\": 13.99, \"large\": 16.99}}, {\"name\": \"채소\", \"prices\": {\"small\": 9.99, \"medium\": 12.99, \"large\": 15.99}}, {\"name\": \"하와이안\", \"prices\": {\"small\": 11.99, \"medium\": 14.99, \"large\": 17.99}}, {\"name\": \"커스텀\", \"prices\": {\"small\": 12.99, \"medium\": 15.99, \"large\": 18.99}} ]"
   ]
  },
  {
   "attachments": {
    "658da944-0c55-4097-b1f4-b308168024da.png": {
     "image/png": "[encoded data removed]"
    }
   },
   "cell_type": "markdown",
   "id": "a9a0a24f-f2c4-48b6-b40a-1b0eae3447a1",
   "metadata": {},
   "source": [
    "* 출력 예시는 다음과 같습니다.<br>\n",
    "![image.png](attachment:658da944-0c55-4097-b1f4-b308168024da.png)"
   ]
  }
 ],
 "metadata": {
  "kernelspec": {
   "display_name": "Python 3 (ipykernel)",
   "language": "python",
   "name": "python3"
  },
  "language_info": {
   "codemirror_mode": {
    "name": "ipython",
    "version": 3
   },
   "file_extension": ".py",
   "mimetype": "text/x-python",
   "name": "python",
   "nbconvert_exporter": "python",
   "pygments_lexer": "ipython3",
   "version": "3.12.7"
  }
 },
 "nbformat": 4,
 "nbformat_minor": 5
}
